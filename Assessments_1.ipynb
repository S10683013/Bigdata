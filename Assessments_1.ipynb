{
  "nbformat": 4,
  "nbformat_minor": 0,
  "metadata": {
    "colab": {
      "name": "Assessments_1.ipynb",
      "provenance": [],
      "collapsed_sections": [],
      "include_colab_link": true
    },
    "kernelspec": {
      "name": "ir",
      "display_name": "R"
    }
  },
  "cells": [
    {
      "cell_type": "markdown",
      "metadata": {
        "id": "view-in-github",
        "colab_type": "text"
      },
      "source": [
        "<a href=\"https://colab.research.google.com/github/S10683013/HI/blob/master/Assessments_1.ipynb\" target=\"_parent\"><img src=\"https://colab.research.google.com/assets/colab-badge.svg\" alt=\"Open In Colab\"/></a>"
      ]
    },
    {
      "cell_type": "code",
      "metadata": {
        "id": "o3fvkOWvUnvs",
        "colab_type": "code",
        "colab": {
          "base_uri": "https://localhost:8080/",
          "height": 51
        },
        "outputId": "fe83735b-be20-41fc-8589-b4343949a017"
      },
      "source": [
        "class(\"hello\")\n",
        "class(8+7)\n",
        "?class"
      ],
      "execution_count": null,
      "outputs": [
        {
          "output_type": "display_data",
          "data": {
            "text/plain": [
              "[1] \"character\""
            ],
            "text/latex": "'character'",
            "text/markdown": "'character'",
            "text/html": [
              "'character'"
            ]
          },
          "metadata": {
            "tags": []
          }
        },
        {
          "output_type": "display_data",
          "data": {
            "text/plain": [
              "[1] \"numeric\""
            ],
            "text/latex": "'numeric'",
            "text/markdown": "'numeric'",
            "text/html": [
              "'numeric'"
            ]
          },
          "metadata": {
            "tags": []
          }
        }
      ]
    },
    {
      "cell_type": "code",
      "metadata": {
        "id": "4IQRyOIdXBvL",
        "colab_type": "code",
        "colab": {
          "base_uri": "https://localhost:8080/",
          "height": 34
        },
        "outputId": "3f9d4d10-3e99-40fb-a67f-943d62bcfa24"
      },
      "source": [
        "my_height<-183\n",
        "my_weight<-83\n",
        "BMI<-my_weight/(my_height/100)^2\n",
        "BMI"
      ],
      "execution_count": null,
      "outputs": [
        {
          "output_type": "display_data",
          "data": {
            "text/plain": [
              "[1] 24.78426"
            ],
            "text/latex": "24.7842575173938",
            "text/markdown": "24.7842575173938",
            "text/html": [
              "24.7842575173938"
            ]
          },
          "metadata": {
            "tags": []
          }
        }
      ]
    },
    {
      "cell_type": "code",
      "metadata": {
        "id": "sr_8sZU9YdFs",
        "colab_type": "code",
        "colab": {
          "base_uri": "https://localhost:8080/",
          "height": 34
        },
        "outputId": "e6542990-b8b3-46e4-ed5f-4fc9c7b6a97b"
      },
      "source": [
        "paste0(\"我叫李赫安, 我的身高\",my_height,\"公分, 我的體重\",my_weight,\"公斤, BMI值=\",BMI)"
      ],
      "execution_count": null,
      "outputs": [
        {
          "output_type": "display_data",
          "data": {
            "text/plain": [
              "[1] \"我叫李赫安, 我的身高183公分, 我的體重83公斤, BMI值=24.7842575173938\""
            ],
            "text/latex": "'我叫李赫安, 我的身高183公分, 我的體重83公斤, BMI值=24.7842575173938'",
            "text/markdown": "'我叫李赫安, 我的身高183公分, 我的體重83公斤, BMI值=24.7842575173938'",
            "text/html": [
              "'我叫李赫安, 我的身高183公分, 我的體重83公斤, BMI值=24.7842575173938'"
            ]
          },
          "metadata": {
            "tags": []
          }
        }
      ]
    }
  ]
}