{
  "nbformat": 4,
  "nbformat_minor": 0,
  "metadata": {
    "colab": {
      "name": "1015.ipynb",
      "provenance": [],
      "collapsed_sections": [],
      "include_colab_link": true
    },
    "kernelspec": {
      "name": "ir",
      "display_name": "R"
    }
  },
  "cells": [
    {
      "cell_type": "markdown",
      "metadata": {
        "id": "view-in-github",
        "colab_type": "text"
      },
      "source": [
        "<a href=\"https://colab.research.google.com/github/S10683013/Bigdata/blob/master/1015.ipynb\" target=\"_parent\"><img src=\"https://colab.research.google.com/assets/colab-badge.svg\" alt=\"Open In Colab\"/></a>"
      ]
    },
    {
      "cell_type": "code",
      "metadata": {
        "id": "tK_26r45VuLU",
        "outputId": "9ba42024-2470-494c-9f56-b7ec9a5f9b5e",
        "colab": {
          "base_uri": "https://localhost:8080/",
          "height": 68
        }
      },
      "source": [
        "a<- 5L\n",
        "b<- -5\n",
        "c<- 7.3\n",
        "str(a)\n",
        "str(b)\n",
        "str(c)\n"
      ],
      "execution_count": 93,
      "outputs": [
        {
          "output_type": "stream",
          "text": [
            " int 5\n",
            " num -5\n",
            " num 7.3\n"
          ],
          "name": "stdout"
        }
      ]
    },
    {
      "cell_type": "code",
      "metadata": {
        "id": "VbztXXZXXuF1",
        "outputId": "a616e931-dac7-451b-8d98-d86ff50d2774",
        "colab": {
          "base_uri": "https://localhost:8080/",
          "height": 34
        }
      },
      "source": [
        "d <- \"hello\"\n",
        "str(d)"
      ],
      "execution_count": 94,
      "outputs": [
        {
          "output_type": "stream",
          "text": [
            " chr \"hello\"\n"
          ],
          "name": "stdout"
        }
      ]
    },
    {
      "cell_type": "code",
      "metadata": {
        "id": "XWiY0K5UYlSx",
        "outputId": "21931b6e-5ef1-4803-f427-cfca856d5b2d",
        "colab": {
          "base_uri": "https://localhost:8080/",
          "height": 51
        }
      },
      "source": [
        "\n",
        "is.numeric(a)\n",
        "is.integer(a)"
      ],
      "execution_count": 95,
      "outputs": [
        {
          "output_type": "display_data",
          "data": {
            "text/plain": [
              "[1] TRUE"
            ],
            "text/latex": "TRUE",
            "text/markdown": "TRUE",
            "text/html": [
              "TRUE"
            ]
          },
          "metadata": {
            "tags": []
          }
        },
        {
          "output_type": "display_data",
          "data": {
            "text/plain": [
              "[1] TRUE"
            ],
            "text/latex": "TRUE",
            "text/markdown": "TRUE",
            "text/html": [
              "TRUE"
            ]
          },
          "metadata": {
            "tags": []
          }
        }
      ]
    },
    {
      "cell_type": "code",
      "metadata": {
        "id": "pwWsRjTdZjcH",
        "outputId": "4d0bc620-15f7-412a-e3b8-e6d96f09eb03",
        "colab": {
          "base_uri": "https://localhost:8080/",
          "height": 51
        }
      },
      "source": [
        "f<- c(98,97,96)\n",
        "g<- c(\"李赫安\",\"連翊呈\")\n",
        "f[c(1,3,2,3,1)]\n",
        "g[c(2,1,1,2)]"
      ],
      "execution_count": 96,
      "outputs": [
        {
          "output_type": "display_data",
          "data": {
            "text/plain": [
              "[1] 98 96 97 96 98"
            ],
            "text/latex": "\\begin{enumerate*}\n\\item 98\n\\item 96\n\\item 97\n\\item 96\n\\item 98\n\\end{enumerate*}\n",
            "text/markdown": "1. 98\n2. 96\n3. 97\n4. 96\n5. 98\n\n\n",
            "text/html": [
              "<style>\n",
              ".list-inline {list-style: none; margin:0; padding: 0}\n",
              ".list-inline>li {display: inline-block}\n",
              ".list-inline>li:not(:last-child)::after {content: \"\\00b7\"; padding: 0 .5ex}\n",
              "</style>\n",
              "<ol class=list-inline><li>98</li><li>96</li><li>97</li><li>96</li><li>98</li></ol>\n"
            ]
          },
          "metadata": {
            "tags": []
          }
        },
        {
          "output_type": "display_data",
          "data": {
            "text/plain": [
              "[1] \"連翊呈\" \"李赫安\" \"李赫安\" \"連翊呈\""
            ],
            "text/latex": "\\begin{enumerate*}\n\\item '連翊呈'\n\\item '李赫安'\n\\item '李赫安'\n\\item '連翊呈'\n\\end{enumerate*}\n",
            "text/markdown": "1. '連翊呈'\n2. '李赫安'\n3. '李赫安'\n4. '連翊呈'\n\n\n",
            "text/html": [
              "<style>\n",
              ".list-inline {list-style: none; margin:0; padding: 0}\n",
              ".list-inline>li {display: inline-block}\n",
              ".list-inline>li:not(:last-child)::after {content: \"\\00b7\"; padding: 0 .5ex}\n",
              "</style>\n",
              "<ol class=list-inline><li>'連翊呈'</li><li>'李赫安'</li><li>'李赫安'</li><li>'連翊呈'</li></ol>\n"
            ]
          },
          "metadata": {
            "tags": []
          }
        }
      ]
    },
    {
      "cell_type": "code",
      "metadata": {
        "id": "f0PIJ5vOcwXQ",
        "outputId": "6afe3faf-54cc-4005-bfa7-b400da5ff881",
        "colab": {
          "base_uri": "https://localhost:8080/",
          "height": 68
        }
      },
      "source": [
        "gender<- c(\"男\",\"女\",\"男\",\"女\",\"男\")\n",
        "gender<- factor(gender)\n",
        "gender\n",
        "levels(gender)"
      ],
      "execution_count": 97,
      "outputs": [
        {
          "output_type": "display_data",
          "data": {
            "text/plain": [
              "[1] 男 女 男 女 男\n",
              "Levels: 女 男"
            ],
            "text/latex": "\\begin{enumerate*}\n\\item 男\n\\item 女\n\\item 男\n\\item 女\n\\item 男\n\\end{enumerate*}\n\n\\emph{Levels}: \\begin{enumerate*}\n\\item '女'\n\\item '男'\n\\end{enumerate*}\n",
            "text/markdown": "1. 男\n2. 女\n3. 男\n4. 女\n5. 男\n\n\n\n**Levels**: 1. '女'\n2. '男'\n\n\n",
            "text/html": [
              "<style>\n",
              ".list-inline {list-style: none; margin:0; padding: 0}\n",
              ".list-inline>li {display: inline-block}\n",
              ".list-inline>li:not(:last-child)::after {content: \"\\00b7\"; padding: 0 .5ex}\n",
              "</style>\n",
              "<ol class=list-inline><li>男</li><li>女</li><li>男</li><li>女</li><li>男</li></ol>\n",
              "\n",
              "<details>\n",
              "\t<summary style=display:list-item;cursor:pointer>\n",
              "\t\t<strong>Levels</strong>:\n",
              "\t</summary>\n",
              "\t<style>\n",
              "\t.list-inline {list-style: none; margin:0; padding: 0}\n",
              "\t.list-inline>li {display: inline-block}\n",
              "\t.list-inline>li:not(:last-child)::after {content: \"\\00b7\"; padding: 0 .5ex}\n",
              "\t</style>\n",
              "\t<ol class=list-inline><li>'女'</li><li>'男'</li></ol>\n",
              "</details>"
            ]
          },
          "metadata": {
            "tags": []
          }
        },
        {
          "output_type": "display_data",
          "data": {
            "text/plain": [
              "[1] \"女\" \"男\""
            ],
            "text/latex": "\\begin{enumerate*}\n\\item '女'\n\\item '男'\n\\end{enumerate*}\n",
            "text/markdown": "1. '女'\n2. '男'\n\n\n",
            "text/html": [
              "<style>\n",
              ".list-inline {list-style: none; margin:0; padding: 0}\n",
              ".list-inline>li {display: inline-block}\n",
              ".list-inline>li:not(:last-child)::after {content: \"\\00b7\"; padding: 0 .5ex}\n",
              "</style>\n",
              "<ol class=list-inline><li>'女'</li><li>'男'</li></ol>\n"
            ]
          },
          "metadata": {
            "tags": []
          }
        }
      ]
    },
    {
      "cell_type": "code",
      "metadata": {
        "id": "txLIwi9Eff9C",
        "outputId": "7230259a-66b0-4776-ab00-65ea761b3f2e",
        "colab": {
          "base_uri": "https://localhost:8080/",
          "height": 372
        }
      },
      "source": [
        "j<-matrix(c(1:6),nrow=2,ncol=3)\n",
        "j\n",
        "k<-matrix(c(1:10),nrow=5,ncol=2)\n",
        "k"
      ],
      "execution_count": 83,
      "outputs": [
        {
          "output_type": "display_data",
          "data": {
            "text/plain": [
              "     [,1] [,2] [,3]\n",
              "[1,] 1    3    5   \n",
              "[2,] 2    4    6   "
            ],
            "text/latex": "A matrix: 2 × 3 of type int\n\\begin{tabular}{lll}\n\t 1 & 3 & 5\\\\\n\t 2 & 4 & 6\\\\\n\\end{tabular}\n",
            "text/markdown": "\nA matrix: 2 × 3 of type int\n\n| 1 | 3 | 5 |\n| 2 | 4 | 6 |\n\n",
            "text/html": [
              "<table>\n",
              "<caption>A matrix: 2 × 3 of type int</caption>\n",
              "<tbody>\n",
              "\t<tr><td>1</td><td>3</td><td>5</td></tr>\n",
              "\t<tr><td>2</td><td>4</td><td>6</td></tr>\n",
              "</tbody>\n",
              "</table>\n"
            ]
          },
          "metadata": {
            "tags": []
          }
        },
        {
          "output_type": "display_data",
          "data": {
            "text/plain": [
              "     [,1] [,2]\n",
              "[1,] 1     6  \n",
              "[2,] 2     7  \n",
              "[3,] 3     8  \n",
              "[4,] 4     9  \n",
              "[5,] 5    10  "
            ],
            "text/latex": "A matrix: 5 × 2 of type int\n\\begin{tabular}{ll}\n\t 1 &  6\\\\\n\t 2 &  7\\\\\n\t 3 &  8\\\\\n\t 4 &  9\\\\\n\t 5 & 10\\\\\n\\end{tabular}\n",
            "text/markdown": "\nA matrix: 5 × 2 of type int\n\n| 1 |  6 |\n| 2 |  7 |\n| 3 |  8 |\n| 4 |  9 |\n| 5 | 10 |\n\n",
            "text/html": [
              "<table>\n",
              "<caption>A matrix: 5 × 2 of type int</caption>\n",
              "<tbody>\n",
              "\t<tr><td>1</td><td> 6</td></tr>\n",
              "\t<tr><td>2</td><td> 7</td></tr>\n",
              "\t<tr><td>3</td><td> 8</td></tr>\n",
              "\t<tr><td>4</td><td> 9</td></tr>\n",
              "\t<tr><td>5</td><td>10</td></tr>\n",
              "</tbody>\n",
              "</table>\n"
            ]
          },
          "metadata": {
            "tags": []
          }
        }
      ]
    },
    {
      "cell_type": "code",
      "metadata": {
        "id": "QqssHPF3g_ys",
        "outputId": "bee000df-15cd-4fc5-cc34-a92dbcb0fc3b",
        "colab": {
          "base_uri": "https://localhost:8080/",
          "height": 51
        }
      },
      "source": [
        "k[1,2]\n",
        "k[5,1]"
      ],
      "execution_count": 85,
      "outputs": [
        {
          "output_type": "display_data",
          "data": {
            "text/plain": [
              "[1] 6"
            ],
            "text/latex": "6",
            "text/markdown": "6",
            "text/html": [
              "6"
            ]
          },
          "metadata": {
            "tags": []
          }
        },
        {
          "output_type": "display_data",
          "data": {
            "text/plain": [
              "[1] 5"
            ],
            "text/latex": "5",
            "text/markdown": "5",
            "text/html": [
              "5"
            ]
          },
          "metadata": {
            "tags": []
          }
        }
      ]
    },
    {
      "cell_type": "code",
      "metadata": {
        "id": "U9H21PxViUdS",
        "outputId": "9cfe6620-7dbf-4a31-9444-2a36984f1b75",
        "colab": {
          "base_uri": "https://localhost:8080/",
          "height": 183
        }
      },
      "source": [
        "tmp<- data.frame(Studen_ID=c(1,2,3,4,5),name=c(\"jojo\",\"william\",\"john\",\"hen\",\"rey\"),score=c(100,90,80,70,60))\n",
        "tmp"
      ],
      "execution_count": 87,
      "outputs": [
        {
          "output_type": "display_data",
          "data": {
            "text/plain": [
              "  Studen_ID name    score\n",
              "1 1         jojo    100  \n",
              "2 2         william  90  \n",
              "3 3         john     80  \n",
              "4 4         hen      70  \n",
              "5 5         rey      60  "
            ],
            "text/latex": "A data.frame: 5 × 3\n\\begin{tabular}{lll}\n Studen\\_ID & name & score\\\\\n <dbl> & <chr> & <dbl>\\\\\n\\hline\n\t 1 & jojo    & 100\\\\\n\t 2 & william &  90\\\\\n\t 3 & john    &  80\\\\\n\t 4 & hen     &  70\\\\\n\t 5 & rey     &  60\\\\\n\\end{tabular}\n",
            "text/markdown": "\nA data.frame: 5 × 3\n\n| Studen_ID &lt;dbl&gt; | name &lt;chr&gt; | score &lt;dbl&gt; |\n|---|---|---|\n| 1 | jojo    | 100 |\n| 2 | william |  90 |\n| 3 | john    |  80 |\n| 4 | hen     |  70 |\n| 5 | rey     |  60 |\n\n",
            "text/html": [
              "<table>\n",
              "<caption>A data.frame: 5 × 3</caption>\n",
              "<thead>\n",
              "\t<tr><th scope=col>Studen_ID</th><th scope=col>name</th><th scope=col>score</th></tr>\n",
              "\t<tr><th scope=col>&lt;dbl&gt;</th><th scope=col>&lt;chr&gt;</th><th scope=col>&lt;dbl&gt;</th></tr>\n",
              "</thead>\n",
              "<tbody>\n",
              "\t<tr><td>1</td><td>jojo   </td><td>100</td></tr>\n",
              "\t<tr><td>2</td><td>william</td><td> 90</td></tr>\n",
              "\t<tr><td>3</td><td>john   </td><td> 80</td></tr>\n",
              "\t<tr><td>4</td><td>hen    </td><td> 70</td></tr>\n",
              "\t<tr><td>5</td><td>rey    </td><td> 60</td></tr>\n",
              "</tbody>\n",
              "</table>\n"
            ]
          },
          "metadata": {
            "tags": []
          }
        }
      ]
    },
    {
      "cell_type": "code",
      "metadata": {
        "id": "Fae71i3sjKsi",
        "outputId": "86cfc9fc-bb8b-40d3-a914-d7b855f7d265",
        "colab": {
          "base_uri": "https://localhost:8080/",
          "height": 150
        }
      },
      "source": [
        "tmp[2,2]\n",
        "tmp[,3]\n",
        "tmp$name == \"jojo\"\n",
        "tmp[tmp$name==\"william\",]"
      ],
      "execution_count": 109,
      "outputs": [
        {
          "output_type": "display_data",
          "data": {
            "text/plain": [
              "[1] \"william\""
            ],
            "text/latex": "'william'",
            "text/markdown": "'william'",
            "text/html": [
              "'william'"
            ]
          },
          "metadata": {
            "tags": []
          }
        },
        {
          "output_type": "display_data",
          "data": {
            "text/plain": [
              "[1] 100  90  80  70  60"
            ],
            "text/latex": "\\begin{enumerate*}\n\\item 100\n\\item 90\n\\item 80\n\\item 70\n\\item 60\n\\end{enumerate*}\n",
            "text/markdown": "1. 100\n2. 90\n3. 80\n4. 70\n5. 60\n\n\n",
            "text/html": [
              "<style>\n",
              ".list-inline {list-style: none; margin:0; padding: 0}\n",
              ".list-inline>li {display: inline-block}\n",
              ".list-inline>li:not(:last-child)::after {content: \"\\00b7\"; padding: 0 .5ex}\n",
              "</style>\n",
              "<ol class=list-inline><li>100</li><li>90</li><li>80</li><li>70</li><li>60</li></ol>\n"
            ]
          },
          "metadata": {
            "tags": []
          }
        },
        {
          "output_type": "display_data",
          "data": {
            "text/plain": [
              "[1]  TRUE FALSE FALSE FALSE FALSE"
            ],
            "text/latex": "\\begin{enumerate*}\n\\item TRUE\n\\item FALSE\n\\item FALSE\n\\item FALSE\n\\item FALSE\n\\end{enumerate*}\n",
            "text/markdown": "1. TRUE\n2. FALSE\n3. FALSE\n4. FALSE\n5. FALSE\n\n\n",
            "text/html": [
              "<style>\n",
              ".list-inline {list-style: none; margin:0; padding: 0}\n",
              ".list-inline>li {display: inline-block}\n",
              ".list-inline>li:not(:last-child)::after {content: \"\\00b7\"; padding: 0 .5ex}\n",
              "</style>\n",
              "<ol class=list-inline><li>TRUE</li><li>FALSE</li><li>FALSE</li><li>FALSE</li><li>FALSE</li></ol>\n"
            ]
          },
          "metadata": {
            "tags": []
          }
        },
        {
          "output_type": "display_data",
          "data": {
            "text/plain": [
              "  Studen_ID name    score\n",
              "2 2         william 90   "
            ],
            "text/latex": "A data.frame: 1 × 3\n\\begin{tabular}{r|lll}\n  & Studen\\_ID & name & score\\\\\n  & <dbl> & <chr> & <dbl>\\\\\n\\hline\n\t2 & 2 & william & 90\\\\\n\\end{tabular}\n",
            "text/markdown": "\nA data.frame: 1 × 3\n\n| <!--/--> | Studen_ID &lt;dbl&gt; | name &lt;chr&gt; | score &lt;dbl&gt; |\n|---|---|---|---|\n| 2 | 2 | william | 90 |\n\n",
            "text/html": [
              "<table>\n",
              "<caption>A data.frame: 1 × 3</caption>\n",
              "<thead>\n",
              "\t<tr><th></th><th scope=col>Studen_ID</th><th scope=col>name</th><th scope=col>score</th></tr>\n",
              "\t<tr><th></th><th scope=col>&lt;dbl&gt;</th><th scope=col>&lt;chr&gt;</th><th scope=col>&lt;dbl&gt;</th></tr>\n",
              "</thead>\n",
              "<tbody>\n",
              "\t<tr><th scope=row>2</th><td>2</td><td>william</td><td>90</td></tr>\n",
              "</tbody>\n",
              "</table>\n"
            ]
          },
          "metadata": {
            "tags": []
          }
        }
      ]
    },
    {
      "cell_type": "code",
      "metadata": {
        "id": "DLSqeOnbj7iK",
        "outputId": "271fc839-a27d-4562-b2a0-ff185fc32c7b",
        "colab": {
          "base_uri": "https://localhost:8080/",
          "height": 68
        }
      },
      "source": [
        "install.packages(\"SportsAnalytics\")\n",
        "library(SportsAnalytics)\n",
        "NBA1516<- fetch_NBAPlayerStatistics(\"15-16\")"
      ],
      "execution_count": 110,
      "outputs": [
        {
          "output_type": "stream",
          "text": [
            "Installing package into ‘/usr/local/lib/R/site-library’\n",
            "(as ‘lib’ is unspecified)\n",
            "\n"
          ],
          "name": "stderr"
        }
      ]
    },
    {
      "cell_type": "code",
      "metadata": {
        "id": "hTN7g5QEmCtR",
        "outputId": "aae1d176-4082-471f-a077-2f0b5c82a5bd",
        "colab": {
          "base_uri": "https://localhost:8080/",
          "height": 459
        }
      },
      "source": [
        "str(NBA1516)"
      ],
      "execution_count": 111,
      "outputs": [
        {
          "output_type": "stream",
          "text": [
            "'data.frame':\t476 obs. of  25 variables:\n",
            " $ League             : Factor w/ 1 level \"NBA\": 1 1 1 1 1 1 1 1 1 1 ...\n",
            " $ Name               : chr  \"Quincy Acy\" \"Jordan Adams\" \"Steven Adams\" \"Arron Afflalo\" ...\n",
            " $ Team               : Factor w/ 31 levels \"ATL\",\"BOS\",\"BRO\",..: 27 15 22 20 19 13 28 26 12 15 ...\n",
            " $ Position           : Factor w/ 5 levels \"C\",\"PF\",\"PG\",..: 4 5 1 5 1 1 2 2 2 5 ...\n",
            " $ GamesPlayed        : int  59 2 80 71 59 60 74 9 79 64 ...\n",
            " $ TotalMinutesPlayed : int  877 15 2019 2359 863 802 2260 37 1601 1622 ...\n",
            " $ FieldGoalsMade     : int  119 2 261 354 150 134 536 5 191 215 ...\n",
            " $ FieldGoalsAttempted: int  214 6 426 799 314 225 1045 10 370 469 ...\n",
            " $ ThreesMade         : int  19 0 0 91 0 0 0 0 0 15 ...\n",
            " $ ThreesAttempted    : int  49 1 0 238 1 0 16 0 0 42 ...\n",
            " $ FreeThrowsMade     : int  50 3 114 110 52 60 259 0 46 90 ...\n",
            " $ FreeThrowsAttempted: int  68 5 196 131 62 84 302 0 73 138 ...\n",
            " $ OffensiveRebounds  : int  65 0 218 23 75 86 175 2 162 104 ...\n",
            " $ TotalRebounds      : int  188 2 531 266 269 288 631 6 424 297 ...\n",
            " $ Assists            : int  27 3 61 145 32 50 110 0 76 70 ...\n",
            " $ Steals             : int  29 3 42 25 19 47 38 1 26 109 ...\n",
            " $ Turnovers          : int  27 2 84 82 54 64 99 1 69 78 ...\n",
            " $ Blocks             : int  24 0 89 10 36 68 81 2 42 18 ...\n",
            " $ PersonalFouls      : int  103 2 223 142 134 139 151 1 147 175 ...\n",
            " $ Disqualifications  : int  0 0 2 1 0 1 0 0 1 1 ...\n",
            " $ TotalPoints        : int  307 7 636 909 352 328 1331 10 428 535 ...\n",
            " $ Technicals         : int  3 0 2 1 2 0 0 0 0 1 ...\n",
            " $ Ejections          : int  0 0 0 0 0 0 0 0 0 0 ...\n",
            " $ FlagrantFouls      : int  0 0 0 0 0 0 0 0 0 0 ...\n",
            " $ GamesStarted       : int  29 0 80 57 17 5 74 0 28 56 ...\n"
          ],
          "name": "stdout"
        }
      ]
    },
    {
      "cell_type": "code",
      "metadata": {
        "id": "bwqPGWjlmEQr",
        "outputId": "afac8621-af2f-4f9a-f854-d1cd3f0f3637",
        "colab": {
          "base_uri": "https://localhost:8080/",
          "height": 183
        }
      },
      "source": [
        "head(NBA1516,n=5)"
      ],
      "execution_count": 114,
      "outputs": [
        {
          "output_type": "display_data",
          "data": {
            "text/plain": [
              "  League Name          Team Position GamesPlayed TotalMinutesPlayed\n",
              "1 NBA    Quincy Acy    SAC  SF       59           877              \n",
              "2 NBA    Jordan Adams  MEM  SG        2            15              \n",
              "3 NBA    Steven Adams  OKL  C        80          2019              \n",
              "4 NBA    Arron Afflalo NYK  SG       71          2359              \n",
              "5 NBA    Alexis Ajinca NOR  C        59           863              \n",
              "  FieldGoalsMade FieldGoalsAttempted ThreesMade ThreesAttempted ⋯ Steals\n",
              "1 119            214                 19          49             ⋯ 29    \n",
              "2   2              6                  0           1             ⋯  3    \n",
              "3 261            426                  0           0             ⋯ 42    \n",
              "4 354            799                 91         238             ⋯ 25    \n",
              "5 150            314                  0           1             ⋯ 19    \n",
              "  Turnovers Blocks PersonalFouls Disqualifications TotalPoints Technicals\n",
              "1 27        24     103           0                 307         3         \n",
              "2  2         0       2           0                   7         0         \n",
              "3 84        89     223           2                 636         2         \n",
              "4 82        10     142           1                 909         1         \n",
              "5 54        36     134           0                 352         2         \n",
              "  Ejections FlagrantFouls GamesStarted\n",
              "1 0         0             29          \n",
              "2 0         0              0          \n",
              "3 0         0             80          \n",
              "4 0         0             57          \n",
              "5 0         0             17          "
            ],
            "text/latex": "A data.frame: 5 × 25\n\\begin{tabular}{r|lllllllllllllllllllll}\n  & League & Name & Team & Position & GamesPlayed & TotalMinutesPlayed & FieldGoalsMade & FieldGoalsAttempted & ThreesMade & ThreesAttempted & ⋯ & Steals & Turnovers & Blocks & PersonalFouls & Disqualifications & TotalPoints & Technicals & Ejections & FlagrantFouls & GamesStarted\\\\\n  & <fct> & <chr> & <fct> & <fct> & <int> & <int> & <int> & <int> & <int> & <int> & ⋯ & <int> & <int> & <int> & <int> & <int> & <int> & <int> & <int> & <int> & <int>\\\\\n\\hline\n\t1 & NBA & Quincy Acy    & SAC & SF & 59 &  877 & 119 & 214 & 19 &  49 & ⋯ & 29 & 27 & 24 & 103 & 0 & 307 & 3 & 0 & 0 & 29\\\\\n\t2 & NBA & Jordan Adams  & MEM & SG &  2 &   15 &   2 &   6 &  0 &   1 & ⋯ &  3 &  2 &  0 &   2 & 0 &   7 & 0 & 0 & 0 &  0\\\\\n\t3 & NBA & Steven Adams  & OKL & C  & 80 & 2019 & 261 & 426 &  0 &   0 & ⋯ & 42 & 84 & 89 & 223 & 2 & 636 & 2 & 0 & 0 & 80\\\\\n\t4 & NBA & Arron Afflalo & NYK & SG & 71 & 2359 & 354 & 799 & 91 & 238 & ⋯ & 25 & 82 & 10 & 142 & 1 & 909 & 1 & 0 & 0 & 57\\\\\n\t5 & NBA & Alexis Ajinca & NOR & C  & 59 &  863 & 150 & 314 &  0 &   1 & ⋯ & 19 & 54 & 36 & 134 & 0 & 352 & 2 & 0 & 0 & 17\\\\\n\\end{tabular}\n",
            "text/markdown": "\nA data.frame: 5 × 25\n\n| <!--/--> | League &lt;fct&gt; | Name &lt;chr&gt; | Team &lt;fct&gt; | Position &lt;fct&gt; | GamesPlayed &lt;int&gt; | TotalMinutesPlayed &lt;int&gt; | FieldGoalsMade &lt;int&gt; | FieldGoalsAttempted &lt;int&gt; | ThreesMade &lt;int&gt; | ThreesAttempted &lt;int&gt; | ⋯ ⋯ | Steals &lt;int&gt; | Turnovers &lt;int&gt; | Blocks &lt;int&gt; | PersonalFouls &lt;int&gt; | Disqualifications &lt;int&gt; | TotalPoints &lt;int&gt; | Technicals &lt;int&gt; | Ejections &lt;int&gt; | FlagrantFouls &lt;int&gt; | GamesStarted &lt;int&gt; |\n|---|---|---|---|---|---|---|---|---|---|---|---|---|---|---|---|---|---|---|---|---|---|\n| 1 | NBA | Quincy Acy    | SAC | SF | 59 |  877 | 119 | 214 | 19 |  49 | ⋯ | 29 | 27 | 24 | 103 | 0 | 307 | 3 | 0 | 0 | 29 |\n| 2 | NBA | Jordan Adams  | MEM | SG |  2 |   15 |   2 |   6 |  0 |   1 | ⋯ |  3 |  2 |  0 |   2 | 0 |   7 | 0 | 0 | 0 |  0 |\n| 3 | NBA | Steven Adams  | OKL | C  | 80 | 2019 | 261 | 426 |  0 |   0 | ⋯ | 42 | 84 | 89 | 223 | 2 | 636 | 2 | 0 | 0 | 80 |\n| 4 | NBA | Arron Afflalo | NYK | SG | 71 | 2359 | 354 | 799 | 91 | 238 | ⋯ | 25 | 82 | 10 | 142 | 1 | 909 | 1 | 0 | 0 | 57 |\n| 5 | NBA | Alexis Ajinca | NOR | C  | 59 |  863 | 150 | 314 |  0 |   1 | ⋯ | 19 | 54 | 36 | 134 | 0 | 352 | 2 | 0 | 0 | 17 |\n\n",
            "text/html": [
              "<table>\n",
              "<caption>A data.frame: 5 × 25</caption>\n",
              "<thead>\n",
              "\t<tr><th></th><th scope=col>League</th><th scope=col>Name</th><th scope=col>Team</th><th scope=col>Position</th><th scope=col>GamesPlayed</th><th scope=col>TotalMinutesPlayed</th><th scope=col>FieldGoalsMade</th><th scope=col>FieldGoalsAttempted</th><th scope=col>ThreesMade</th><th scope=col>ThreesAttempted</th><th scope=col>⋯</th><th scope=col>Steals</th><th scope=col>Turnovers</th><th scope=col>Blocks</th><th scope=col>PersonalFouls</th><th scope=col>Disqualifications</th><th scope=col>TotalPoints</th><th scope=col>Technicals</th><th scope=col>Ejections</th><th scope=col>FlagrantFouls</th><th scope=col>GamesStarted</th></tr>\n",
              "\t<tr><th></th><th scope=col>&lt;fct&gt;</th><th scope=col>&lt;chr&gt;</th><th scope=col>&lt;fct&gt;</th><th scope=col>&lt;fct&gt;</th><th scope=col>&lt;int&gt;</th><th scope=col>&lt;int&gt;</th><th scope=col>&lt;int&gt;</th><th scope=col>&lt;int&gt;</th><th scope=col>&lt;int&gt;</th><th scope=col>&lt;int&gt;</th><th scope=col>⋯</th><th scope=col>&lt;int&gt;</th><th scope=col>&lt;int&gt;</th><th scope=col>&lt;int&gt;</th><th scope=col>&lt;int&gt;</th><th scope=col>&lt;int&gt;</th><th scope=col>&lt;int&gt;</th><th scope=col>&lt;int&gt;</th><th scope=col>&lt;int&gt;</th><th scope=col>&lt;int&gt;</th><th scope=col>&lt;int&gt;</th></tr>\n",
              "</thead>\n",
              "<tbody>\n",
              "\t<tr><th scope=row>1</th><td>NBA</td><td>Quincy Acy   </td><td>SAC</td><td>SF</td><td>59</td><td> 877</td><td>119</td><td>214</td><td>19</td><td> 49</td><td>⋯</td><td>29</td><td>27</td><td>24</td><td>103</td><td>0</td><td>307</td><td>3</td><td>0</td><td>0</td><td>29</td></tr>\n",
              "\t<tr><th scope=row>2</th><td>NBA</td><td>Jordan Adams </td><td>MEM</td><td>SG</td><td> 2</td><td>  15</td><td>  2</td><td>  6</td><td> 0</td><td>  1</td><td>⋯</td><td> 3</td><td> 2</td><td> 0</td><td>  2</td><td>0</td><td>  7</td><td>0</td><td>0</td><td>0</td><td> 0</td></tr>\n",
              "\t<tr><th scope=row>3</th><td>NBA</td><td>Steven Adams </td><td>OKL</td><td>C </td><td>80</td><td>2019</td><td>261</td><td>426</td><td> 0</td><td>  0</td><td>⋯</td><td>42</td><td>84</td><td>89</td><td>223</td><td>2</td><td>636</td><td>2</td><td>0</td><td>0</td><td>80</td></tr>\n",
              "\t<tr><th scope=row>4</th><td>NBA</td><td>Arron Afflalo</td><td>NYK</td><td>SG</td><td>71</td><td>2359</td><td>354</td><td>799</td><td>91</td><td>238</td><td>⋯</td><td>25</td><td>82</td><td>10</td><td>142</td><td>1</td><td>909</td><td>1</td><td>0</td><td>0</td><td>57</td></tr>\n",
              "\t<tr><th scope=row>5</th><td>NBA</td><td>Alexis Ajinca</td><td>NOR</td><td>C </td><td>59</td><td> 863</td><td>150</td><td>314</td><td> 0</td><td>  1</td><td>⋯</td><td>19</td><td>54</td><td>36</td><td>134</td><td>0</td><td>352</td><td>2</td><td>0</td><td>0</td><td>17</td></tr>\n",
              "</tbody>\n",
              "</table>\n"
            ]
          },
          "metadata": {
            "tags": []
          }
        }
      ]
    },
    {
      "cell_type": "code",
      "metadata": {
        "id": "RIeY65OEmIJJ",
        "outputId": "aeeb79e0-0a68-4547-c55e-a61d0d617419",
        "colab": {
          "base_uri": "https://localhost:8080/",
          "height": 200
        }
      },
      "source": [
        "tail(NBA1516,n=5)"
      ],
      "execution_count": 115,
      "outputs": [
        {
          "output_type": "display_data",
          "data": {
            "text/plain": [
              "    League Name           Team Position GamesPlayed TotalMinutesPlayed\n",
              "472 NBA    Joseph Young   IND  PG       41           384              \n",
              "473 NBA    Nick Young     LAL  SF       54          1036              \n",
              "474 NBA    Thaddeus Young BRO  SF       73          2413              \n",
              "475 NBA    Cody Zeller    CHA  PF       73          1773              \n",
              "476 NBA    Tyler Zeller   BOS  C        60           714              \n",
              "    FieldGoalsMade FieldGoalsAttempted ThreesMade ThreesAttempted ⋯ Steals\n",
              "472  62            170                 10          46             ⋯  15   \n",
              "473 126            372                 77         237             ⋯  23   \n",
              "474 495            963                  7          30             ⋯ 112   \n",
              "475 231            437                  1          10             ⋯  57   \n",
              "476 138            290                  0           0             ⋯  10   \n",
              "    Turnovers Blocks PersonalFouls Disqualifications TotalPoints Technicals\n",
              "472  33        0      30           0                  154        0         \n",
              "473  30        7      50           0                  392        1         \n",
              "474 136       37     182           3                 1102        1         \n",
              "475  68       63     204           4                  638        0         \n",
              "476  46       22      97           1                  364        0         \n",
              "    Ejections FlagrantFouls GamesStarted\n",
              "472 0         0              0          \n",
              "473 0         0              2          \n",
              "474 0         0             73          \n",
              "475 0         0             60          \n",
              "476 0         0              3          "
            ],
            "text/latex": "A data.frame: 5 × 25\n\\begin{tabular}{r|lllllllllllllllllllll}\n  & League & Name & Team & Position & GamesPlayed & TotalMinutesPlayed & FieldGoalsMade & FieldGoalsAttempted & ThreesMade & ThreesAttempted & ⋯ & Steals & Turnovers & Blocks & PersonalFouls & Disqualifications & TotalPoints & Technicals & Ejections & FlagrantFouls & GamesStarted\\\\\n  & <fct> & <chr> & <fct> & <fct> & <int> & <int> & <int> & <int> & <int> & <int> & ⋯ & <int> & <int> & <int> & <int> & <int> & <int> & <int> & <int> & <int> & <int>\\\\\n\\hline\n\t472 & NBA & Joseph Young   & IND & PG & 41 &  384 &  62 & 170 & 10 &  46 & ⋯ &  15 &  33 &  0 &  30 & 0 &  154 & 0 & 0 & 0 &  0\\\\\n\t473 & NBA & Nick Young     & LAL & SF & 54 & 1036 & 126 & 372 & 77 & 237 & ⋯ &  23 &  30 &  7 &  50 & 0 &  392 & 1 & 0 & 0 &  2\\\\\n\t474 & NBA & Thaddeus Young & BRO & SF & 73 & 2413 & 495 & 963 &  7 &  30 & ⋯ & 112 & 136 & 37 & 182 & 3 & 1102 & 1 & 0 & 0 & 73\\\\\n\t475 & NBA & Cody Zeller    & CHA & PF & 73 & 1773 & 231 & 437 &  1 &  10 & ⋯ &  57 &  68 & 63 & 204 & 4 &  638 & 0 & 0 & 0 & 60\\\\\n\t476 & NBA & Tyler Zeller   & BOS & C  & 60 &  714 & 138 & 290 &  0 &   0 & ⋯ &  10 &  46 & 22 &  97 & 1 &  364 & 0 & 0 & 0 &  3\\\\\n\\end{tabular}\n",
            "text/markdown": "\nA data.frame: 5 × 25\n\n| <!--/--> | League &lt;fct&gt; | Name &lt;chr&gt; | Team &lt;fct&gt; | Position &lt;fct&gt; | GamesPlayed &lt;int&gt; | TotalMinutesPlayed &lt;int&gt; | FieldGoalsMade &lt;int&gt; | FieldGoalsAttempted &lt;int&gt; | ThreesMade &lt;int&gt; | ThreesAttempted &lt;int&gt; | ⋯ ⋯ | Steals &lt;int&gt; | Turnovers &lt;int&gt; | Blocks &lt;int&gt; | PersonalFouls &lt;int&gt; | Disqualifications &lt;int&gt; | TotalPoints &lt;int&gt; | Technicals &lt;int&gt; | Ejections &lt;int&gt; | FlagrantFouls &lt;int&gt; | GamesStarted &lt;int&gt; |\n|---|---|---|---|---|---|---|---|---|---|---|---|---|---|---|---|---|---|---|---|---|---|\n| 472 | NBA | Joseph Young   | IND | PG | 41 |  384 |  62 | 170 | 10 |  46 | ⋯ |  15 |  33 |  0 |  30 | 0 |  154 | 0 | 0 | 0 |  0 |\n| 473 | NBA | Nick Young     | LAL | SF | 54 | 1036 | 126 | 372 | 77 | 237 | ⋯ |  23 |  30 |  7 |  50 | 0 |  392 | 1 | 0 | 0 |  2 |\n| 474 | NBA | Thaddeus Young | BRO | SF | 73 | 2413 | 495 | 963 |  7 |  30 | ⋯ | 112 | 136 | 37 | 182 | 3 | 1102 | 1 | 0 | 0 | 73 |\n| 475 | NBA | Cody Zeller    | CHA | PF | 73 | 1773 | 231 | 437 |  1 |  10 | ⋯ |  57 |  68 | 63 | 204 | 4 |  638 | 0 | 0 | 0 | 60 |\n| 476 | NBA | Tyler Zeller   | BOS | C  | 60 |  714 | 138 | 290 |  0 |   0 | ⋯ |  10 |  46 | 22 |  97 | 1 |  364 | 0 | 0 | 0 |  3 |\n\n",
            "text/html": [
              "<table>\n",
              "<caption>A data.frame: 5 × 25</caption>\n",
              "<thead>\n",
              "\t<tr><th></th><th scope=col>League</th><th scope=col>Name</th><th scope=col>Team</th><th scope=col>Position</th><th scope=col>GamesPlayed</th><th scope=col>TotalMinutesPlayed</th><th scope=col>FieldGoalsMade</th><th scope=col>FieldGoalsAttempted</th><th scope=col>ThreesMade</th><th scope=col>ThreesAttempted</th><th scope=col>⋯</th><th scope=col>Steals</th><th scope=col>Turnovers</th><th scope=col>Blocks</th><th scope=col>PersonalFouls</th><th scope=col>Disqualifications</th><th scope=col>TotalPoints</th><th scope=col>Technicals</th><th scope=col>Ejections</th><th scope=col>FlagrantFouls</th><th scope=col>GamesStarted</th></tr>\n",
              "\t<tr><th></th><th scope=col>&lt;fct&gt;</th><th scope=col>&lt;chr&gt;</th><th scope=col>&lt;fct&gt;</th><th scope=col>&lt;fct&gt;</th><th scope=col>&lt;int&gt;</th><th scope=col>&lt;int&gt;</th><th scope=col>&lt;int&gt;</th><th scope=col>&lt;int&gt;</th><th scope=col>&lt;int&gt;</th><th scope=col>&lt;int&gt;</th><th scope=col>⋯</th><th scope=col>&lt;int&gt;</th><th scope=col>&lt;int&gt;</th><th scope=col>&lt;int&gt;</th><th scope=col>&lt;int&gt;</th><th scope=col>&lt;int&gt;</th><th scope=col>&lt;int&gt;</th><th scope=col>&lt;int&gt;</th><th scope=col>&lt;int&gt;</th><th scope=col>&lt;int&gt;</th><th scope=col>&lt;int&gt;</th></tr>\n",
              "</thead>\n",
              "<tbody>\n",
              "\t<tr><th scope=row>472</th><td>NBA</td><td>Joseph Young  </td><td>IND</td><td>PG</td><td>41</td><td> 384</td><td> 62</td><td>170</td><td>10</td><td> 46</td><td>⋯</td><td> 15</td><td> 33</td><td> 0</td><td> 30</td><td>0</td><td> 154</td><td>0</td><td>0</td><td>0</td><td> 0</td></tr>\n",
              "\t<tr><th scope=row>473</th><td>NBA</td><td>Nick Young    </td><td>LAL</td><td>SF</td><td>54</td><td>1036</td><td>126</td><td>372</td><td>77</td><td>237</td><td>⋯</td><td> 23</td><td> 30</td><td> 7</td><td> 50</td><td>0</td><td> 392</td><td>1</td><td>0</td><td>0</td><td> 2</td></tr>\n",
              "\t<tr><th scope=row>474</th><td>NBA</td><td>Thaddeus Young</td><td>BRO</td><td>SF</td><td>73</td><td>2413</td><td>495</td><td>963</td><td> 7</td><td> 30</td><td>⋯</td><td>112</td><td>136</td><td>37</td><td>182</td><td>3</td><td>1102</td><td>1</td><td>0</td><td>0</td><td>73</td></tr>\n",
              "\t<tr><th scope=row>475</th><td>NBA</td><td>Cody Zeller   </td><td>CHA</td><td>PF</td><td>73</td><td>1773</td><td>231</td><td>437</td><td> 1</td><td> 10</td><td>⋯</td><td> 57</td><td> 68</td><td>63</td><td>204</td><td>4</td><td> 638</td><td>0</td><td>0</td><td>0</td><td>60</td></tr>\n",
              "\t<tr><th scope=row>476</th><td>NBA</td><td>Tyler Zeller  </td><td>BOS</td><td>C </td><td>60</td><td> 714</td><td>138</td><td>290</td><td> 0</td><td>  0</td><td>⋯</td><td> 10</td><td> 46</td><td>22</td><td> 97</td><td>1</td><td> 364</td><td>0</td><td>0</td><td>0</td><td> 3</td></tr>\n",
              "</tbody>\n",
              "</table>\n"
            ]
          },
          "metadata": {
            "tags": []
          }
        }
      ]
    },
    {
      "cell_type": "code",
      "metadata": {
        "id": "5VMUlJr4mQUT",
        "outputId": "9820a583-34a5-4ed9-faaf-367f6c2c0cb7",
        "colab": {
          "base_uri": "https://localhost:8080/",
          "height": 339
        }
      },
      "source": [
        "NBA1516order<- NBA1516[order(NBA1516$GamesPlayed,decreasing = T),]\n",
        "NBA1516order[1:10,]"
      ],
      "execution_count": 120,
      "outputs": [
        {
          "output_type": "display_data",
          "data": {
            "text/plain": [
              "    League Name             Team Position GamesPlayed TotalMinutesPlayed\n",
              "11  NBA    Al-farouq Aminu  POR  SF       82          2342              \n",
              "37  NBA    Will Barton      DEN  SG       82          2355              \n",
              "48  NBA    Bismack Biyombo  TOR  PF       82          1810              \n",
              "62  NBA    Corey Brewer     HOU  SG       82          1670              \n",
              "118 NBA    Gorgui Dieng     MIN  C        82          2222              \n",
              "148 NBA    Langsto Galloway NYK  PG       82          2032              \n",
              "178 NBA    James Harden     HOU  SG       82          3121              \n",
              "208 NBA    Al Horford       ATL  PF       82          2638              \n",
              "246 NBA    Enes Kanter      OKL  C        82          1721              \n",
              "259 NBA    Zach Lavine      MIN  PG       82          2295              \n",
              "    FieldGoalsMade FieldGoalsAttempted ThreesMade ThreesAttempted ⋯ Steals\n",
              "11  299             719                126        349             ⋯  72   \n",
              "37  426             984                112        324             ⋯  71   \n",
              "48  156             288                  0          1             ⋯  19   \n",
              "62  212             552                 61        225             ⋯  84   \n",
              "118 308             578                  6         20             ⋯  94   \n",
              "148 231             588                 77        224             ⋯  77   \n",
              "178 710            1617                236        656             ⋯ 138   \n",
              "208 529            1049                 88        257             ⋯  67   \n",
              "246 415             720                 10         21             ⋯  26   \n",
              "259 433             960                123        316             ⋯  69   \n",
              "    Turnovers Blocks PersonalFouls Disqualifications TotalPoints Technicals\n",
              "11  120        53    171           0                  839        3         \n",
              "37  139        39    147           0                 1180        2         \n",
              "48   71       133    225           2                  454        3         \n",
              "62   78        19    168           1                  590        0         \n",
              "118 140        96    219           0                  827        1         \n",
              "148  61        22    177           2                  625        0         \n",
              "178 374        51    229           1                 2376        2         \n",
              "208 107       122    163           0                 1249        1         \n",
              "246 115        33    166           1                 1040        2         \n",
              "259 155        17    193           1                 1150        0         \n",
              "    Ejections FlagrantFouls GamesStarted\n",
              "11  0         0             82          \n",
              "37  0         0              1          \n",
              "48  0         0             22          \n",
              "62  0         0             12          \n",
              "118 0         0             39          \n",
              "148 0         0              7          \n",
              "178 0         0             82          \n",
              "208 0         0             82          \n",
              "246 0         0              1          \n",
              "259 0         0             33          "
            ],
            "text/latex": "A data.frame: 10 × 25\n\\begin{tabular}{r|lllllllllllllllllllll}\n  & League & Name & Team & Position & GamesPlayed & TotalMinutesPlayed & FieldGoalsMade & FieldGoalsAttempted & ThreesMade & ThreesAttempted & ⋯ & Steals & Turnovers & Blocks & PersonalFouls & Disqualifications & TotalPoints & Technicals & Ejections & FlagrantFouls & GamesStarted\\\\\n  & <fct> & <chr> & <fct> & <fct> & <int> & <int> & <int> & <int> & <int> & <int> & ⋯ & <int> & <int> & <int> & <int> & <int> & <int> & <int> & <int> & <int> & <int>\\\\\n\\hline\n\t11 & NBA & Al-farouq Aminu  & POR & SF & 82 & 2342 & 299 &  719 & 126 & 349 & ⋯ &  72 & 120 &  53 & 171 & 0 &  839 & 3 & 0 & 0 & 82\\\\\n\t37 & NBA & Will Barton      & DEN & SG & 82 & 2355 & 426 &  984 & 112 & 324 & ⋯ &  71 & 139 &  39 & 147 & 0 & 1180 & 2 & 0 & 0 &  1\\\\\n\t48 & NBA & Bismack Biyombo  & TOR & PF & 82 & 1810 & 156 &  288 &   0 &   1 & ⋯ &  19 &  71 & 133 & 225 & 2 &  454 & 3 & 0 & 0 & 22\\\\\n\t62 & NBA & Corey Brewer     & HOU & SG & 82 & 1670 & 212 &  552 &  61 & 225 & ⋯ &  84 &  78 &  19 & 168 & 1 &  590 & 0 & 0 & 0 & 12\\\\\n\t118 & NBA & Gorgui Dieng     & MIN & C  & 82 & 2222 & 308 &  578 &   6 &  20 & ⋯ &  94 & 140 &  96 & 219 & 0 &  827 & 1 & 0 & 0 & 39\\\\\n\t148 & NBA & Langsto Galloway & NYK & PG & 82 & 2032 & 231 &  588 &  77 & 224 & ⋯ &  77 &  61 &  22 & 177 & 2 &  625 & 0 & 0 & 0 &  7\\\\\n\t178 & NBA & James Harden     & HOU & SG & 82 & 3121 & 710 & 1617 & 236 & 656 & ⋯ & 138 & 374 &  51 & 229 & 1 & 2376 & 2 & 0 & 0 & 82\\\\\n\t208 & NBA & Al Horford       & ATL & PF & 82 & 2638 & 529 & 1049 &  88 & 257 & ⋯ &  67 & 107 & 122 & 163 & 0 & 1249 & 1 & 0 & 0 & 82\\\\\n\t246 & NBA & Enes Kanter      & OKL & C  & 82 & 1721 & 415 &  720 &  10 &  21 & ⋯ &  26 & 115 &  33 & 166 & 1 & 1040 & 2 & 0 & 0 &  1\\\\\n\t259 & NBA & Zach Lavine      & MIN & PG & 82 & 2295 & 433 &  960 & 123 & 316 & ⋯ &  69 & 155 &  17 & 193 & 1 & 1150 & 0 & 0 & 0 & 33\\\\\n\\end{tabular}\n",
            "text/markdown": "\nA data.frame: 10 × 25\n\n| <!--/--> | League &lt;fct&gt; | Name &lt;chr&gt; | Team &lt;fct&gt; | Position &lt;fct&gt; | GamesPlayed &lt;int&gt; | TotalMinutesPlayed &lt;int&gt; | FieldGoalsMade &lt;int&gt; | FieldGoalsAttempted &lt;int&gt; | ThreesMade &lt;int&gt; | ThreesAttempted &lt;int&gt; | ⋯ ⋯ | Steals &lt;int&gt; | Turnovers &lt;int&gt; | Blocks &lt;int&gt; | PersonalFouls &lt;int&gt; | Disqualifications &lt;int&gt; | TotalPoints &lt;int&gt; | Technicals &lt;int&gt; | Ejections &lt;int&gt; | FlagrantFouls &lt;int&gt; | GamesStarted &lt;int&gt; |\n|---|---|---|---|---|---|---|---|---|---|---|---|---|---|---|---|---|---|---|---|---|---|\n| 11 | NBA | Al-farouq Aminu  | POR | SF | 82 | 2342 | 299 |  719 | 126 | 349 | ⋯ |  72 | 120 |  53 | 171 | 0 |  839 | 3 | 0 | 0 | 82 |\n| 37 | NBA | Will Barton      | DEN | SG | 82 | 2355 | 426 |  984 | 112 | 324 | ⋯ |  71 | 139 |  39 | 147 | 0 | 1180 | 2 | 0 | 0 |  1 |\n| 48 | NBA | Bismack Biyombo  | TOR | PF | 82 | 1810 | 156 |  288 |   0 |   1 | ⋯ |  19 |  71 | 133 | 225 | 2 |  454 | 3 | 0 | 0 | 22 |\n| 62 | NBA | Corey Brewer     | HOU | SG | 82 | 1670 | 212 |  552 |  61 | 225 | ⋯ |  84 |  78 |  19 | 168 | 1 |  590 | 0 | 0 | 0 | 12 |\n| 118 | NBA | Gorgui Dieng     | MIN | C  | 82 | 2222 | 308 |  578 |   6 |  20 | ⋯ |  94 | 140 |  96 | 219 | 0 |  827 | 1 | 0 | 0 | 39 |\n| 148 | NBA | Langsto Galloway | NYK | PG | 82 | 2032 | 231 |  588 |  77 | 224 | ⋯ |  77 |  61 |  22 | 177 | 2 |  625 | 0 | 0 | 0 |  7 |\n| 178 | NBA | James Harden     | HOU | SG | 82 | 3121 | 710 | 1617 | 236 | 656 | ⋯ | 138 | 374 |  51 | 229 | 1 | 2376 | 2 | 0 | 0 | 82 |\n| 208 | NBA | Al Horford       | ATL | PF | 82 | 2638 | 529 | 1049 |  88 | 257 | ⋯ |  67 | 107 | 122 | 163 | 0 | 1249 | 1 | 0 | 0 | 82 |\n| 246 | NBA | Enes Kanter      | OKL | C  | 82 | 1721 | 415 |  720 |  10 |  21 | ⋯ |  26 | 115 |  33 | 166 | 1 | 1040 | 2 | 0 | 0 |  1 |\n| 259 | NBA | Zach Lavine      | MIN | PG | 82 | 2295 | 433 |  960 | 123 | 316 | ⋯ |  69 | 155 |  17 | 193 | 1 | 1150 | 0 | 0 | 0 | 33 |\n\n",
            "text/html": [
              "<table>\n",
              "<caption>A data.frame: 10 × 25</caption>\n",
              "<thead>\n",
              "\t<tr><th></th><th scope=col>League</th><th scope=col>Name</th><th scope=col>Team</th><th scope=col>Position</th><th scope=col>GamesPlayed</th><th scope=col>TotalMinutesPlayed</th><th scope=col>FieldGoalsMade</th><th scope=col>FieldGoalsAttempted</th><th scope=col>ThreesMade</th><th scope=col>ThreesAttempted</th><th scope=col>⋯</th><th scope=col>Steals</th><th scope=col>Turnovers</th><th scope=col>Blocks</th><th scope=col>PersonalFouls</th><th scope=col>Disqualifications</th><th scope=col>TotalPoints</th><th scope=col>Technicals</th><th scope=col>Ejections</th><th scope=col>FlagrantFouls</th><th scope=col>GamesStarted</th></tr>\n",
              "\t<tr><th></th><th scope=col>&lt;fct&gt;</th><th scope=col>&lt;chr&gt;</th><th scope=col>&lt;fct&gt;</th><th scope=col>&lt;fct&gt;</th><th scope=col>&lt;int&gt;</th><th scope=col>&lt;int&gt;</th><th scope=col>&lt;int&gt;</th><th scope=col>&lt;int&gt;</th><th scope=col>&lt;int&gt;</th><th scope=col>&lt;int&gt;</th><th scope=col>⋯</th><th scope=col>&lt;int&gt;</th><th scope=col>&lt;int&gt;</th><th scope=col>&lt;int&gt;</th><th scope=col>&lt;int&gt;</th><th scope=col>&lt;int&gt;</th><th scope=col>&lt;int&gt;</th><th scope=col>&lt;int&gt;</th><th scope=col>&lt;int&gt;</th><th scope=col>&lt;int&gt;</th><th scope=col>&lt;int&gt;</th></tr>\n",
              "</thead>\n",
              "<tbody>\n",
              "\t<tr><th scope=row>11</th><td>NBA</td><td>Al-farouq Aminu </td><td>POR</td><td>SF</td><td>82</td><td>2342</td><td>299</td><td> 719</td><td>126</td><td>349</td><td>⋯</td><td> 72</td><td>120</td><td> 53</td><td>171</td><td>0</td><td> 839</td><td>3</td><td>0</td><td>0</td><td>82</td></tr>\n",
              "\t<tr><th scope=row>37</th><td>NBA</td><td>Will Barton     </td><td>DEN</td><td>SG</td><td>82</td><td>2355</td><td>426</td><td> 984</td><td>112</td><td>324</td><td>⋯</td><td> 71</td><td>139</td><td> 39</td><td>147</td><td>0</td><td>1180</td><td>2</td><td>0</td><td>0</td><td> 1</td></tr>\n",
              "\t<tr><th scope=row>48</th><td>NBA</td><td>Bismack Biyombo </td><td>TOR</td><td>PF</td><td>82</td><td>1810</td><td>156</td><td> 288</td><td>  0</td><td>  1</td><td>⋯</td><td> 19</td><td> 71</td><td>133</td><td>225</td><td>2</td><td> 454</td><td>3</td><td>0</td><td>0</td><td>22</td></tr>\n",
              "\t<tr><th scope=row>62</th><td>NBA</td><td>Corey Brewer    </td><td>HOU</td><td>SG</td><td>82</td><td>1670</td><td>212</td><td> 552</td><td> 61</td><td>225</td><td>⋯</td><td> 84</td><td> 78</td><td> 19</td><td>168</td><td>1</td><td> 590</td><td>0</td><td>0</td><td>0</td><td>12</td></tr>\n",
              "\t<tr><th scope=row>118</th><td>NBA</td><td>Gorgui Dieng    </td><td>MIN</td><td>C </td><td>82</td><td>2222</td><td>308</td><td> 578</td><td>  6</td><td> 20</td><td>⋯</td><td> 94</td><td>140</td><td> 96</td><td>219</td><td>0</td><td> 827</td><td>1</td><td>0</td><td>0</td><td>39</td></tr>\n",
              "\t<tr><th scope=row>148</th><td>NBA</td><td>Langsto Galloway</td><td>NYK</td><td>PG</td><td>82</td><td>2032</td><td>231</td><td> 588</td><td> 77</td><td>224</td><td>⋯</td><td> 77</td><td> 61</td><td> 22</td><td>177</td><td>2</td><td> 625</td><td>0</td><td>0</td><td>0</td><td> 7</td></tr>\n",
              "\t<tr><th scope=row>178</th><td>NBA</td><td>James Harden    </td><td>HOU</td><td>SG</td><td>82</td><td>3121</td><td>710</td><td>1617</td><td>236</td><td>656</td><td>⋯</td><td>138</td><td>374</td><td> 51</td><td>229</td><td>1</td><td>2376</td><td>2</td><td>0</td><td>0</td><td>82</td></tr>\n",
              "\t<tr><th scope=row>208</th><td>NBA</td><td>Al Horford      </td><td>ATL</td><td>PF</td><td>82</td><td>2638</td><td>529</td><td>1049</td><td> 88</td><td>257</td><td>⋯</td><td> 67</td><td>107</td><td>122</td><td>163</td><td>0</td><td>1249</td><td>1</td><td>0</td><td>0</td><td>82</td></tr>\n",
              "\t<tr><th scope=row>246</th><td>NBA</td><td>Enes Kanter     </td><td>OKL</td><td>C </td><td>82</td><td>1721</td><td>415</td><td> 720</td><td> 10</td><td> 21</td><td>⋯</td><td> 26</td><td>115</td><td> 33</td><td>166</td><td>1</td><td>1040</td><td>2</td><td>0</td><td>0</td><td> 1</td></tr>\n",
              "\t<tr><th scope=row>259</th><td>NBA</td><td>Zach Lavine     </td><td>MIN</td><td>PG</td><td>82</td><td>2295</td><td>433</td><td> 960</td><td>123</td><td>316</td><td>⋯</td><td> 69</td><td>155</td><td> 17</td><td>193</td><td>1</td><td>1150</td><td>0</td><td>0</td><td>0</td><td>33</td></tr>\n",
              "</tbody>\n",
              "</table>\n"
            ]
          },
          "metadata": {
            "tags": []
          }
        }
      ]
    },
    {
      "cell_type": "code",
      "metadata": {
        "id": "CC67oICvntsF",
        "outputId": "1a5aa6d5-7e31-4bc7-feb1-481446970056",
        "colab": {
          "base_uri": "https://localhost:8080/",
          "height": 120
        }
      },
      "source": [
        "NBA1516[grepl(\"Curry\",NBA1516$Name),]"
      ],
      "execution_count": 124,
      "outputs": [
        {
          "output_type": "display_data",
          "data": {
            "text/plain": [
              "    League Name          Team Position GamesPlayed TotalMinutesPlayed\n",
              "105 NBA    Seth Curry    SAC  SG       44           694              \n",
              "106 NBA    Stephen Curry GSW  PG       79          2705              \n",
              "    FieldGoalsMade FieldGoalsAttempted ThreesMade ThreesAttempted ⋯ Steals\n",
              "105 102             224                 50        111             ⋯  22   \n",
              "106 805            1597                402        887             ⋯ 169   \n",
              "    Turnovers Blocks PersonalFouls Disqualifications TotalPoints Technicals\n",
              "105  36        3      41           0                  299        0         \n",
              "106 261       16     161           0                 2375        1         \n",
              "    Ejections FlagrantFouls GamesStarted\n",
              "105 0         0              9          \n",
              "106 0         0             79          "
            ],
            "text/latex": "A data.frame: 2 × 25\n\\begin{tabular}{r|lllllllllllllllllllll}\n  & League & Name & Team & Position & GamesPlayed & TotalMinutesPlayed & FieldGoalsMade & FieldGoalsAttempted & ThreesMade & ThreesAttempted & ⋯ & Steals & Turnovers & Blocks & PersonalFouls & Disqualifications & TotalPoints & Technicals & Ejections & FlagrantFouls & GamesStarted\\\\\n  & <fct> & <chr> & <fct> & <fct> & <int> & <int> & <int> & <int> & <int> & <int> & ⋯ & <int> & <int> & <int> & <int> & <int> & <int> & <int> & <int> & <int> & <int>\\\\\n\\hline\n\t105 & NBA & Seth Curry    & SAC & SG & 44 &  694 & 102 &  224 &  50 & 111 & ⋯ &  22 &  36 &  3 &  41 & 0 &  299 & 0 & 0 & 0 &  9\\\\\n\t106 & NBA & Stephen Curry & GSW & PG & 79 & 2705 & 805 & 1597 & 402 & 887 & ⋯ & 169 & 261 & 16 & 161 & 0 & 2375 & 1 & 0 & 0 & 79\\\\\n\\end{tabular}\n",
            "text/markdown": "\nA data.frame: 2 × 25\n\n| <!--/--> | League &lt;fct&gt; | Name &lt;chr&gt; | Team &lt;fct&gt; | Position &lt;fct&gt; | GamesPlayed &lt;int&gt; | TotalMinutesPlayed &lt;int&gt; | FieldGoalsMade &lt;int&gt; | FieldGoalsAttempted &lt;int&gt; | ThreesMade &lt;int&gt; | ThreesAttempted &lt;int&gt; | ⋯ ⋯ | Steals &lt;int&gt; | Turnovers &lt;int&gt; | Blocks &lt;int&gt; | PersonalFouls &lt;int&gt; | Disqualifications &lt;int&gt; | TotalPoints &lt;int&gt; | Technicals &lt;int&gt; | Ejections &lt;int&gt; | FlagrantFouls &lt;int&gt; | GamesStarted &lt;int&gt; |\n|---|---|---|---|---|---|---|---|---|---|---|---|---|---|---|---|---|---|---|---|---|---|\n| 105 | NBA | Seth Curry    | SAC | SG | 44 |  694 | 102 |  224 |  50 | 111 | ⋯ |  22 |  36 |  3 |  41 | 0 |  299 | 0 | 0 | 0 |  9 |\n| 106 | NBA | Stephen Curry | GSW | PG | 79 | 2705 | 805 | 1597 | 402 | 887 | ⋯ | 169 | 261 | 16 | 161 | 0 | 2375 | 1 | 0 | 0 | 79 |\n\n",
            "text/html": [
              "<table>\n",
              "<caption>A data.frame: 2 × 25</caption>\n",
              "<thead>\n",
              "\t<tr><th></th><th scope=col>League</th><th scope=col>Name</th><th scope=col>Team</th><th scope=col>Position</th><th scope=col>GamesPlayed</th><th scope=col>TotalMinutesPlayed</th><th scope=col>FieldGoalsMade</th><th scope=col>FieldGoalsAttempted</th><th scope=col>ThreesMade</th><th scope=col>ThreesAttempted</th><th scope=col>⋯</th><th scope=col>Steals</th><th scope=col>Turnovers</th><th scope=col>Blocks</th><th scope=col>PersonalFouls</th><th scope=col>Disqualifications</th><th scope=col>TotalPoints</th><th scope=col>Technicals</th><th scope=col>Ejections</th><th scope=col>FlagrantFouls</th><th scope=col>GamesStarted</th></tr>\n",
              "\t<tr><th></th><th scope=col>&lt;fct&gt;</th><th scope=col>&lt;chr&gt;</th><th scope=col>&lt;fct&gt;</th><th scope=col>&lt;fct&gt;</th><th scope=col>&lt;int&gt;</th><th scope=col>&lt;int&gt;</th><th scope=col>&lt;int&gt;</th><th scope=col>&lt;int&gt;</th><th scope=col>&lt;int&gt;</th><th scope=col>&lt;int&gt;</th><th scope=col>⋯</th><th scope=col>&lt;int&gt;</th><th scope=col>&lt;int&gt;</th><th scope=col>&lt;int&gt;</th><th scope=col>&lt;int&gt;</th><th scope=col>&lt;int&gt;</th><th scope=col>&lt;int&gt;</th><th scope=col>&lt;int&gt;</th><th scope=col>&lt;int&gt;</th><th scope=col>&lt;int&gt;</th><th scope=col>&lt;int&gt;</th></tr>\n",
              "</thead>\n",
              "<tbody>\n",
              "\t<tr><th scope=row>105</th><td>NBA</td><td>Seth Curry   </td><td>SAC</td><td>SG</td><td>44</td><td> 694</td><td>102</td><td> 224</td><td> 50</td><td>111</td><td>⋯</td><td> 22</td><td> 36</td><td> 3</td><td> 41</td><td>0</td><td> 299</td><td>0</td><td>0</td><td>0</td><td> 9</td></tr>\n",
              "\t<tr><th scope=row>106</th><td>NBA</td><td>Stephen Curry</td><td>GSW</td><td>PG</td><td>79</td><td>2705</td><td>805</td><td>1597</td><td>402</td><td>887</td><td>⋯</td><td>169</td><td>261</td><td>16</td><td>161</td><td>0</td><td>2375</td><td>1</td><td>0</td><td>0</td><td>79</td></tr>\n",
              "</tbody>\n",
              "</table>\n"
            ]
          },
          "metadata": {
            "tags": []
          }
        }
      ]
    },
    {
      "cell_type": "code",
      "metadata": {
        "id": "TJtZLNT1pLYZ",
        "outputId": "ddd43445-a887-4fb0-980f-81b62943c030",
        "colab": {
          "base_uri": "https://localhost:8080/",
          "height": 68
        }
      },
      "source": [
        "install.packages(\"data.table\")\n",
        "library(data.table)"
      ],
      "execution_count": 125,
      "outputs": [
        {
          "output_type": "stream",
          "text": [
            "Installing package into ‘/usr/local/lib/R/site-library’\n",
            "(as ‘lib’ is unspecified)\n",
            "\n"
          ],
          "name": "stderr"
        }
      ]
    },
    {
      "cell_type": "code",
      "metadata": {
        "id": "2uoReKkxpYkY",
        "outputId": "d49e7d84-de53-4901-94df-0181c68f7827",
        "colab": {
          "base_uri": "https://localhost:8080/",
          "height": 246
        }
      },
      "source": [
        "NBA1516DT<-data.table(NBA1516)\n",
        "NBA1516DT[grepl(\"James\",Name)]"
      ],
      "execution_count": 127,
      "outputs": [
        {
          "output_type": "display_data",
          "data": {
            "text/plain": [
              "  League Name           Team Position GamesPlayed TotalMinutesPlayed\n",
              "1 NBA    James Anderson SAC  SG       51           721              \n",
              "2 NBA    James Ennis    NOR  SF       22           329              \n",
              "3 NBA    James Harden   HOU  SG       82          3121              \n",
              "4 NBA    Lebron James   CLE  SF       76          2710              \n",
              "5 NBA    James Johnson  TOR  PF       57           924              \n",
              "6 NBA    James Jones    CLE  SG       48           466              \n",
              "7 NBA    James Mcadoo   GSW  SG       41           265              \n",
              "8 NBA    James Young    BOS  SG       29           200              \n",
              "  FieldGoalsMade FieldGoalsAttempted ThreesMade ThreesAttempted ⋯ Steals\n",
              "1  67             178                 23         86             ⋯  21   \n",
              "2  54             113                 26         58             ⋯  16   \n",
              "3 710            1617                236        656             ⋯ 138   \n",
              "4 737            1416                 87        282             ⋯ 104   \n",
              "5 114             240                 20         66             ⋯  29   \n",
              "6  59             143                 41        104             ⋯  11   \n",
              "7  45              84                  1          2             ⋯  10   \n",
              "8  11              36                  6         26             ⋯   6   \n",
              "  Turnovers Blocks PersonalFouls Disqualifications TotalPoints Technicals\n",
              "1  42       14      54           0                  179        0         \n",
              "2  19        5      28           1                  159        0         \n",
              "3 374       51     229           1                 2376        2         \n",
              "4 249       49     143           0                 1920        3         \n",
              "5  54       33      84           0                  287        0         \n",
              "6  13       10      50           0                  180        1         \n",
              "7  16        8      39           0                  117        0         \n",
              "8   5        1      17           0                   29        0         \n",
              "  Ejections FlagrantFouls GamesStarted\n",
              "1 0         0             15          \n",
              "2 0         0              5          \n",
              "3 0         0             82          \n",
              "4 0         0             76          \n",
              "5 0         0             32          \n",
              "6 0         0              0          \n",
              "7 0         0              1          \n",
              "8 0         0              0          "
            ],
            "text/latex": "A data.table: 8 × 25\n\\begin{tabular}{lllllllllllllllllllll}\n League & Name & Team & Position & GamesPlayed & TotalMinutesPlayed & FieldGoalsMade & FieldGoalsAttempted & ThreesMade & ThreesAttempted & ⋯ & Steals & Turnovers & Blocks & PersonalFouls & Disqualifications & TotalPoints & Technicals & Ejections & FlagrantFouls & GamesStarted\\\\\n <fct> & <chr> & <fct> & <fct> & <int> & <int> & <int> & <int> & <int> & <int> & ⋯ & <int> & <int> & <int> & <int> & <int> & <int> & <int> & <int> & <int> & <int>\\\\\n\\hline\n\t NBA & James Anderson & SAC & SG & 51 &  721 &  67 &  178 &  23 &  86 & ⋯ &  21 &  42 & 14 &  54 & 0 &  179 & 0 & 0 & 0 & 15\\\\\n\t NBA & James Ennis    & NOR & SF & 22 &  329 &  54 &  113 &  26 &  58 & ⋯ &  16 &  19 &  5 &  28 & 1 &  159 & 0 & 0 & 0 &  5\\\\\n\t NBA & James Harden   & HOU & SG & 82 & 3121 & 710 & 1617 & 236 & 656 & ⋯ & 138 & 374 & 51 & 229 & 1 & 2376 & 2 & 0 & 0 & 82\\\\\n\t NBA & Lebron James   & CLE & SF & 76 & 2710 & 737 & 1416 &  87 & 282 & ⋯ & 104 & 249 & 49 & 143 & 0 & 1920 & 3 & 0 & 0 & 76\\\\\n\t NBA & James Johnson  & TOR & PF & 57 &  924 & 114 &  240 &  20 &  66 & ⋯ &  29 &  54 & 33 &  84 & 0 &  287 & 0 & 0 & 0 & 32\\\\\n\t NBA & James Jones    & CLE & SG & 48 &  466 &  59 &  143 &  41 & 104 & ⋯ &  11 &  13 & 10 &  50 & 0 &  180 & 1 & 0 & 0 &  0\\\\\n\t NBA & James Mcadoo   & GSW & SG & 41 &  265 &  45 &   84 &   1 &   2 & ⋯ &  10 &  16 &  8 &  39 & 0 &  117 & 0 & 0 & 0 &  1\\\\\n\t NBA & James Young    & BOS & SG & 29 &  200 &  11 &   36 &   6 &  26 & ⋯ &   6 &   5 &  1 &  17 & 0 &   29 & 0 & 0 & 0 &  0\\\\\n\\end{tabular}\n",
            "text/markdown": "\nA data.table: 8 × 25\n\n| League &lt;fct&gt; | Name &lt;chr&gt; | Team &lt;fct&gt; | Position &lt;fct&gt; | GamesPlayed &lt;int&gt; | TotalMinutesPlayed &lt;int&gt; | FieldGoalsMade &lt;int&gt; | FieldGoalsAttempted &lt;int&gt; | ThreesMade &lt;int&gt; | ThreesAttempted &lt;int&gt; | ⋯ ⋯ | Steals &lt;int&gt; | Turnovers &lt;int&gt; | Blocks &lt;int&gt; | PersonalFouls &lt;int&gt; | Disqualifications &lt;int&gt; | TotalPoints &lt;int&gt; | Technicals &lt;int&gt; | Ejections &lt;int&gt; | FlagrantFouls &lt;int&gt; | GamesStarted &lt;int&gt; |\n|---|---|---|---|---|---|---|---|---|---|---|---|---|---|---|---|---|---|---|---|---|\n| NBA | James Anderson | SAC | SG | 51 |  721 |  67 |  178 |  23 |  86 | ⋯ |  21 |  42 | 14 |  54 | 0 |  179 | 0 | 0 | 0 | 15 |\n| NBA | James Ennis    | NOR | SF | 22 |  329 |  54 |  113 |  26 |  58 | ⋯ |  16 |  19 |  5 |  28 | 1 |  159 | 0 | 0 | 0 |  5 |\n| NBA | James Harden   | HOU | SG | 82 | 3121 | 710 | 1617 | 236 | 656 | ⋯ | 138 | 374 | 51 | 229 | 1 | 2376 | 2 | 0 | 0 | 82 |\n| NBA | Lebron James   | CLE | SF | 76 | 2710 | 737 | 1416 |  87 | 282 | ⋯ | 104 | 249 | 49 | 143 | 0 | 1920 | 3 | 0 | 0 | 76 |\n| NBA | James Johnson  | TOR | PF | 57 |  924 | 114 |  240 |  20 |  66 | ⋯ |  29 |  54 | 33 |  84 | 0 |  287 | 0 | 0 | 0 | 32 |\n| NBA | James Jones    | CLE | SG | 48 |  466 |  59 |  143 |  41 | 104 | ⋯ |  11 |  13 | 10 |  50 | 0 |  180 | 1 | 0 | 0 |  0 |\n| NBA | James Mcadoo   | GSW | SG | 41 |  265 |  45 |   84 |   1 |   2 | ⋯ |  10 |  16 |  8 |  39 | 0 |  117 | 0 | 0 | 0 |  1 |\n| NBA | James Young    | BOS | SG | 29 |  200 |  11 |   36 |   6 |  26 | ⋯ |   6 |   5 |  1 |  17 | 0 |   29 | 0 | 0 | 0 |  0 |\n\n",
            "text/html": [
              "<table>\n",
              "<caption>A data.table: 8 × 25</caption>\n",
              "<thead>\n",
              "\t<tr><th scope=col>League</th><th scope=col>Name</th><th scope=col>Team</th><th scope=col>Position</th><th scope=col>GamesPlayed</th><th scope=col>TotalMinutesPlayed</th><th scope=col>FieldGoalsMade</th><th scope=col>FieldGoalsAttempted</th><th scope=col>ThreesMade</th><th scope=col>ThreesAttempted</th><th scope=col>⋯</th><th scope=col>Steals</th><th scope=col>Turnovers</th><th scope=col>Blocks</th><th scope=col>PersonalFouls</th><th scope=col>Disqualifications</th><th scope=col>TotalPoints</th><th scope=col>Technicals</th><th scope=col>Ejections</th><th scope=col>FlagrantFouls</th><th scope=col>GamesStarted</th></tr>\n",
              "\t<tr><th scope=col>&lt;fct&gt;</th><th scope=col>&lt;chr&gt;</th><th scope=col>&lt;fct&gt;</th><th scope=col>&lt;fct&gt;</th><th scope=col>&lt;int&gt;</th><th scope=col>&lt;int&gt;</th><th scope=col>&lt;int&gt;</th><th scope=col>&lt;int&gt;</th><th scope=col>&lt;int&gt;</th><th scope=col>&lt;int&gt;</th><th scope=col>⋯</th><th scope=col>&lt;int&gt;</th><th scope=col>&lt;int&gt;</th><th scope=col>&lt;int&gt;</th><th scope=col>&lt;int&gt;</th><th scope=col>&lt;int&gt;</th><th scope=col>&lt;int&gt;</th><th scope=col>&lt;int&gt;</th><th scope=col>&lt;int&gt;</th><th scope=col>&lt;int&gt;</th><th scope=col>&lt;int&gt;</th></tr>\n",
              "</thead>\n",
              "<tbody>\n",
              "\t<tr><td>NBA</td><td>James Anderson</td><td>SAC</td><td>SG</td><td>51</td><td> 721</td><td> 67</td><td> 178</td><td> 23</td><td> 86</td><td>⋯</td><td> 21</td><td> 42</td><td>14</td><td> 54</td><td>0</td><td> 179</td><td>0</td><td>0</td><td>0</td><td>15</td></tr>\n",
              "\t<tr><td>NBA</td><td>James Ennis   </td><td>NOR</td><td>SF</td><td>22</td><td> 329</td><td> 54</td><td> 113</td><td> 26</td><td> 58</td><td>⋯</td><td> 16</td><td> 19</td><td> 5</td><td> 28</td><td>1</td><td> 159</td><td>0</td><td>0</td><td>0</td><td> 5</td></tr>\n",
              "\t<tr><td>NBA</td><td>James Harden  </td><td>HOU</td><td>SG</td><td>82</td><td>3121</td><td>710</td><td>1617</td><td>236</td><td>656</td><td>⋯</td><td>138</td><td>374</td><td>51</td><td>229</td><td>1</td><td>2376</td><td>2</td><td>0</td><td>0</td><td>82</td></tr>\n",
              "\t<tr><td>NBA</td><td>Lebron James  </td><td>CLE</td><td>SF</td><td>76</td><td>2710</td><td>737</td><td>1416</td><td> 87</td><td>282</td><td>⋯</td><td>104</td><td>249</td><td>49</td><td>143</td><td>0</td><td>1920</td><td>3</td><td>0</td><td>0</td><td>76</td></tr>\n",
              "\t<tr><td>NBA</td><td>James Johnson </td><td>TOR</td><td>PF</td><td>57</td><td> 924</td><td>114</td><td> 240</td><td> 20</td><td> 66</td><td>⋯</td><td> 29</td><td> 54</td><td>33</td><td> 84</td><td>0</td><td> 287</td><td>0</td><td>0</td><td>0</td><td>32</td></tr>\n",
              "\t<tr><td>NBA</td><td>James Jones   </td><td>CLE</td><td>SG</td><td>48</td><td> 466</td><td> 59</td><td> 143</td><td> 41</td><td>104</td><td>⋯</td><td> 11</td><td> 13</td><td>10</td><td> 50</td><td>0</td><td> 180</td><td>1</td><td>0</td><td>0</td><td> 0</td></tr>\n",
              "\t<tr><td>NBA</td><td>James Mcadoo  </td><td>GSW</td><td>SG</td><td>41</td><td> 265</td><td> 45</td><td>  84</td><td>  1</td><td>  2</td><td>⋯</td><td> 10</td><td> 16</td><td> 8</td><td> 39</td><td>0</td><td> 117</td><td>0</td><td>0</td><td>0</td><td> 1</td></tr>\n",
              "\t<tr><td>NBA</td><td>James Young   </td><td>BOS</td><td>SG</td><td>29</td><td> 200</td><td> 11</td><td>  36</td><td>  6</td><td> 26</td><td>⋯</td><td>  6</td><td>  5</td><td> 1</td><td> 17</td><td>0</td><td>  29</td><td>0</td><td>0</td><td>0</td><td> 0</td></tr>\n",
              "</tbody>\n",
              "</table>\n"
            ]
          },
          "metadata": {
            "tags": []
          }
        }
      ]
    },
    {
      "cell_type": "code",
      "metadata": {
        "id": "127fWBOtqT75",
        "outputId": "66819466-c258-45ea-c975-44d91ee20857",
        "colab": {
          "base_uri": "https://localhost:8080/",
          "height": 998
        }
      },
      "source": [
        "NBA1516DT[GamesPlayed>80]"
      ],
      "execution_count": 133,
      "outputs": [
        {
          "output_type": "display_data",
          "data": {
            "text/plain": [
              "   League Name             Team Position GamesPlayed TotalMinutesPlayed\n",
              "1  NBA    Al-farouq Aminu  POR  SF       82          2342              \n",
              "2  NBA    Trevor Ariza     HOU  SF       81          2860              \n",
              "3  NBA    Will Barton      DEN  SG       82          2355              \n",
              "4  NBA    Aron Baynes      DET  PF       81          1241              \n",
              "5  NBA    Bismack Biyombo  TOR  PF       82          1810              \n",
              "6  NBA    Corey Brewer     HOU  SG       82          1670              \n",
              "7  NBA    Allen Crabbe     POR  SF       81          2111              \n",
              "8  NBA    Ed Davis         POR  PF       81          1684              \n",
              "9  NBA    Gorgui Dieng     MIN  C        82          2222              \n",
              "10 NBA    Andre Drummond   DET  C        81          2664              \n",
              "11 NBA    Jared Dudley     WAS  SG       81          2098              \n",
              "12 NBA    Monta Ellis      IND  PG       81          2733              \n",
              "13 NBA    Randy Foye       OKC  SG       81          1640              \n",
              "14 NBA    Langsto Galloway NYK  PG       82          2032              \n",
              "15 NBA    Paul George      IND  SF       81          2828              \n",
              "16 NBA    Draymond Green   GSW  SF       81          2807              \n",
              "17 NBA    James Harden     HOU  SG       82          3121              \n",
              "18 NBA    Roy Hibbert      LAL  C        81          1881              \n",
              "19 NBA    Al Horford       ATL  PF       82          2638              \n",
              "20 NBA    Joe Ingles       UTA  SF       81          1241              \n",
              "21 NBA    Joe Johnson      MIA  SF       81          2703              \n",
              "22 NBA    Frank Kaminsky   CHA  PF       81          1713              \n",
              "23 NBA    Enes Kanter      OKL  C        82          1721              \n",
              "24 NBA    Zach Lavine      MIN  PG       82          2295              \n",
              "25 NBA    Robin Lopez      NYK  C        82          2213              \n",
              "26 NBA    T.j. Mcconnell   PHI  PG       81          1609              \n",
              "27 NBA    Doug Mcdermott   CHI  SF       81          1860              \n",
              "28 NBA    Patty Mills      SAN  PG       81          1659              \n",
              "29 NBA    Paul Millsap     ATL  PF       81          2640              \n",
              "30 NBA    Shabazz Muhammad MIN  SF       82          1678              \n",
              "31 NBA    Raul Neto        UTA  PG       81          1501              \n",
              "32 NBA    Mason Plumlee    POR  PF       82          2087              \n",
              "33 NBA    Julius Randle    LAL  PF       81          2287              \n",
              "34 NBA    Ramon Sessions   WAS  PG       82          1667              \n",
              "35 NBA    Jared Sullinger  BOS  PF       81          1917              \n",
              "36 NBA    Isaiah Thomas    BOS  PG       82          2647              \n",
              "37 NBA    Tristan Thompson CLE  C        82          2269              \n",
              "38 NBA    Karl-antho Towns MIN  C        82          2621              \n",
              "39 NBA    P.j. Tucker      PHO  SF       82          2540              \n",
              "40 NBA    Evan Turner      BOS  SG       81          2270              \n",
              "41 NBA    Kemba Walker     CHA  PG       81          2885              \n",
              "42 NBA    Andrew Wiggins   MIN  SF       81          2844              \n",
              "43 NBA    Marvin Williams  CHA  PF       81          2339              \n",
              "   FieldGoalsMade FieldGoalsAttempted ThreesMade ThreesAttempted ⋯ Steals\n",
              "1  299             719                126        349             ⋯  72   \n",
              "2  357             858                185        497             ⋯ 161   \n",
              "3  426             984                112        324             ⋯  71   \n",
              "4  194             384                  0          2             ⋯  21   \n",
              "5  156             288                  0          1             ⋯  19   \n",
              "6  212             552                 61        225             ⋯  84   \n",
              "7  312             678                112        284             ⋯  63   \n",
              "8  206             337                  0          0             ⋯  57   \n",
              "9  308             578                  6         20             ⋯  94   \n",
              "10 552            1061                  2          6             ⋯ 119   \n",
              "11 233             487                100        239             ⋯  75   \n",
              "12 436            1021                 87        281             ⋯ 149   \n",
              "13 168             481                 75        250             ⋯  39   \n",
              "14 231             588                 77        224             ⋯  77   \n",
              "15 605            1448                210        565             ⋯ 152   \n",
              "16 401             819                100        258             ⋯ 118   \n",
              "17 710            1617                236        656             ⋯ 138   \n",
              "18 182             411                  0          2             ⋯  32   \n",
              "19 529            1049                 88        257             ⋯  67   \n",
              "20 124             291                 81        210             ⋯  55   \n",
              "21 377             859                120        313             ⋯  61   \n",
              "22 215             525                 68        202             ⋯  37   \n",
              "23 415             720                 10         21             ⋯  26   \n",
              "24 433             960                123        316             ⋯  69   \n",
              "25 357             662                  0          1             ⋯  16   \n",
              "26 218             464                 31         89             ⋯  95   \n",
              "27 291             644                110        259             ⋯  14   \n",
              "28 260             612                123        320             ⋯  59   \n",
              "29 501            1067                 74        232             ⋯ 148   \n",
              "30 317             681                 44        152             ⋯  24   \n",
              "31 180             418                 64        162             ⋯  62   \n",
              "32 267             517                  0          4             ⋯  68   \n",
              "33 358             835                 10         36             ⋯  53   \n",
              "34 280             592                 36        111             ⋯  47   \n",
              "35 351             807                 29        104             ⋯  75   \n",
              "36 591            1382                167        465             ⋯  91   \n",
              "37 247             420                  0          0             ⋯  38   \n",
              "38 625            1152                 30         88             ⋯  58   \n",
              "39 239             582                 68        206             ⋯ 106   \n",
              "40 343             753                 20         83             ⋯  80   \n",
              "41 568            1332                182        490             ⋯ 127   \n",
              "42 594            1294                 57        190             ⋯  78   \n",
              "43 338             747                152        379             ⋯  58   \n",
              "   Turnovers Blocks PersonalFouls Disqualifications TotalPoints Technicals\n",
              "1  120        53    171           0                  839         3        \n",
              "2  113        26    177           0                 1025         2        \n",
              "3  139        39    147           0                 1180         2        \n",
              "4   67        52    151           0                  514         0        \n",
              "5   71       133    225           2                  454         3        \n",
              "6   78        19    168           1                  590         0        \n",
              "7   64        16    192           2                  834         0        \n",
              "8   64        72    202           2                  526         2        \n",
              "9  140        96    219           0                  827         1        \n",
              "10 154       112    245           2                 1314         7        \n",
              "11  80        18    190           1                  638         1        \n",
              "12 203        38    174           0                 1121         1        \n",
              "13  86        29    131           0                  472         0        \n",
              "14  61        22    177           2                  625         0        \n",
              "15 265        29    230           1                 1874         6        \n",
              "16 259       111    240           2                 1131        11        \n",
              "17 374        51    229           1                 2376         2        \n",
              "18  76       110    252           3                  481         2        \n",
              "19 107       122    163           0                 1249         1        \n",
              "20  65         4     98           0                  342         1        \n",
              "21 160         4    146           0                  992         1        \n",
              "22  58        43    126           0                  606         0        \n",
              "23 115        33    166           1                 1040         2        \n",
              "24 155        17    193           1                 1150         0        \n",
              "25 133       129    182           2                  842         3        \n",
              "26 140        10    114           0                  493         0        \n",
              "27  52         6    127           0                  764         0        \n",
              "28  76         6    102           0                  690         0        \n",
              "29 191       140    237           2                 1385         4        \n",
              "30  70         7     94           0                  863         0        \n",
              "31 109         2    122           1                  476         0        \n",
              "32 154        82    253           4                  749         1        \n",
              "33 149        29    242           2                  919         0        \n",
              "34 115         5    102           0                  810         0        \n",
              "35 102        47    209           2                  834         2        \n",
              "36 220         9    167           1                 1823         9        \n",
              "37  61        51    202           0                  643         1        \n",
              "38 183       138    245           1                 1503         2        \n",
              "39 111        20    202           3                  652         4        \n",
              "40 169        28    139           0                  854         2        \n",
              "41 171        39    111           0                 1689         5        \n",
              "42 182        46    165           1                 1675         1        \n",
              "43  62        77    133           1                  948         0        \n",
              "   Ejections FlagrantFouls GamesStarted\n",
              "1  0         0             82          \n",
              "2  0         0             81          \n",
              "3  0         0              1          \n",
              "4  0         0              1          \n",
              "5  0         0             22          \n",
              "6  0         0             12          \n",
              "7  0         0              8          \n",
              "8  0         0              0          \n",
              "9  0         0             39          \n",
              "10 0         0             81          \n",
              "11 0         0             41          \n",
              "12 0         0             81          \n",
              "13 0         0              8          \n",
              "14 0         0              7          \n",
              "15 0         0             81          \n",
              "16 0         0             81          \n",
              "17 0         0             82          \n",
              "18 0         0             81          \n",
              "19 0         0             82          \n",
              "20 0         0              2          \n",
              "21 0         0             81          \n",
              "22 0         0              3          \n",
              "23 0         0              1          \n",
              "24 0         0             33          \n",
              "25 0         0             82          \n",
              "26 0         0             17          \n",
              "27 0         0              4          \n",
              "28 0         0              3          \n",
              "29 0         0             81          \n",
              "30 0         0              0          \n",
              "31 0         0             53          \n",
              "32 0         0             82          \n",
              "33 0         0             60          \n",
              "34 0         0              5          \n",
              "35 0         0             73          \n",
              "36 0         0             79          \n",
              "37 0         0             34          \n",
              "38 0         0             82          \n",
              "39 0         0             80          \n",
              "40 0         0             12          \n",
              "41 0         0             81          \n",
              "42 0         0             81          \n",
              "43 0         0             81          "
            ],
            "text/latex": "A data.table: 43 × 25\n\\begin{tabular}{lllllllllllllllllllll}\n League & Name & Team & Position & GamesPlayed & TotalMinutesPlayed & FieldGoalsMade & FieldGoalsAttempted & ThreesMade & ThreesAttempted & ⋯ & Steals & Turnovers & Blocks & PersonalFouls & Disqualifications & TotalPoints & Technicals & Ejections & FlagrantFouls & GamesStarted\\\\\n <fct> & <chr> & <fct> & <fct> & <int> & <int> & <int> & <int> & <int> & <int> & ⋯ & <int> & <int> & <int> & <int> & <int> & <int> & <int> & <int> & <int> & <int>\\\\\n\\hline\n\t NBA & Al-farouq Aminu  & POR & SF & 82 & 2342 & 299 &  719 & 126 & 349 & ⋯ &  72 & 120 &  53 & 171 & 0 &  839 &  3 & 0 & 0 & 82\\\\\n\t NBA & Trevor Ariza     & HOU & SF & 81 & 2860 & 357 &  858 & 185 & 497 & ⋯ & 161 & 113 &  26 & 177 & 0 & 1025 &  2 & 0 & 0 & 81\\\\\n\t NBA & Will Barton      & DEN & SG & 82 & 2355 & 426 &  984 & 112 & 324 & ⋯ &  71 & 139 &  39 & 147 & 0 & 1180 &  2 & 0 & 0 &  1\\\\\n\t NBA & Aron Baynes      & DET & PF & 81 & 1241 & 194 &  384 &   0 &   2 & ⋯ &  21 &  67 &  52 & 151 & 0 &  514 &  0 & 0 & 0 &  1\\\\\n\t NBA & Bismack Biyombo  & TOR & PF & 82 & 1810 & 156 &  288 &   0 &   1 & ⋯ &  19 &  71 & 133 & 225 & 2 &  454 &  3 & 0 & 0 & 22\\\\\n\t NBA & Corey Brewer     & HOU & SG & 82 & 1670 & 212 &  552 &  61 & 225 & ⋯ &  84 &  78 &  19 & 168 & 1 &  590 &  0 & 0 & 0 & 12\\\\\n\t NBA & Allen Crabbe     & POR & SF & 81 & 2111 & 312 &  678 & 112 & 284 & ⋯ &  63 &  64 &  16 & 192 & 2 &  834 &  0 & 0 & 0 &  8\\\\\n\t NBA & Ed Davis         & POR & PF & 81 & 1684 & 206 &  337 &   0 &   0 & ⋯ &  57 &  64 &  72 & 202 & 2 &  526 &  2 & 0 & 0 &  0\\\\\n\t NBA & Gorgui Dieng     & MIN & C  & 82 & 2222 & 308 &  578 &   6 &  20 & ⋯ &  94 & 140 &  96 & 219 & 0 &  827 &  1 & 0 & 0 & 39\\\\\n\t NBA & Andre Drummond   & DET & C  & 81 & 2664 & 552 & 1061 &   2 &   6 & ⋯ & 119 & 154 & 112 & 245 & 2 & 1314 &  7 & 0 & 0 & 81\\\\\n\t NBA & Jared Dudley     & WAS & SG & 81 & 2098 & 233 &  487 & 100 & 239 & ⋯ &  75 &  80 &  18 & 190 & 1 &  638 &  1 & 0 & 0 & 41\\\\\n\t NBA & Monta Ellis      & IND & PG & 81 & 2733 & 436 & 1021 &  87 & 281 & ⋯ & 149 & 203 &  38 & 174 & 0 & 1121 &  1 & 0 & 0 & 81\\\\\n\t NBA & Randy Foye       & OKC & SG & 81 & 1640 & 168 &  481 &  75 & 250 & ⋯ &  39 &  86 &  29 & 131 & 0 &  472 &  0 & 0 & 0 &  8\\\\\n\t NBA & Langsto Galloway & NYK & PG & 82 & 2032 & 231 &  588 &  77 & 224 & ⋯ &  77 &  61 &  22 & 177 & 2 &  625 &  0 & 0 & 0 &  7\\\\\n\t NBA & Paul George      & IND & SF & 81 & 2828 & 605 & 1448 & 210 & 565 & ⋯ & 152 & 265 &  29 & 230 & 1 & 1874 &  6 & 0 & 0 & 81\\\\\n\t NBA & Draymond Green   & GSW & SF & 81 & 2807 & 401 &  819 & 100 & 258 & ⋯ & 118 & 259 & 111 & 240 & 2 & 1131 & 11 & 0 & 0 & 81\\\\\n\t NBA & James Harden     & HOU & SG & 82 & 3121 & 710 & 1617 & 236 & 656 & ⋯ & 138 & 374 &  51 & 229 & 1 & 2376 &  2 & 0 & 0 & 82\\\\\n\t NBA & Roy Hibbert      & LAL & C  & 81 & 1881 & 182 &  411 &   0 &   2 & ⋯ &  32 &  76 & 110 & 252 & 3 &  481 &  2 & 0 & 0 & 81\\\\\n\t NBA & Al Horford       & ATL & PF & 82 & 2638 & 529 & 1049 &  88 & 257 & ⋯ &  67 & 107 & 122 & 163 & 0 & 1249 &  1 & 0 & 0 & 82\\\\\n\t NBA & Joe Ingles       & UTA & SF & 81 & 1241 & 124 &  291 &  81 & 210 & ⋯ &  55 &  65 &   4 &  98 & 0 &  342 &  1 & 0 & 0 &  2\\\\\n\t NBA & Joe Johnson      & MIA & SF & 81 & 2703 & 377 &  859 & 120 & 313 & ⋯ &  61 & 160 &   4 & 146 & 0 &  992 &  1 & 0 & 0 & 81\\\\\n\t NBA & Frank Kaminsky   & CHA & PF & 81 & 1713 & 215 &  525 &  68 & 202 & ⋯ &  37 &  58 &  43 & 126 & 0 &  606 &  0 & 0 & 0 &  3\\\\\n\t NBA & Enes Kanter      & OKL & C  & 82 & 1721 & 415 &  720 &  10 &  21 & ⋯ &  26 & 115 &  33 & 166 & 1 & 1040 &  2 & 0 & 0 &  1\\\\\n\t NBA & Zach Lavine      & MIN & PG & 82 & 2295 & 433 &  960 & 123 & 316 & ⋯ &  69 & 155 &  17 & 193 & 1 & 1150 &  0 & 0 & 0 & 33\\\\\n\t NBA & Robin Lopez      & NYK & C  & 82 & 2213 & 357 &  662 &   0 &   1 & ⋯ &  16 & 133 & 129 & 182 & 2 &  842 &  3 & 0 & 0 & 82\\\\\n\t NBA & T.j. Mcconnell   & PHI & PG & 81 & 1609 & 218 &  464 &  31 &  89 & ⋯ &  95 & 140 &  10 & 114 & 0 &  493 &  0 & 0 & 0 & 17\\\\\n\t NBA & Doug Mcdermott   & CHI & SF & 81 & 1860 & 291 &  644 & 110 & 259 & ⋯ &  14 &  52 &   6 & 127 & 0 &  764 &  0 & 0 & 0 &  4\\\\\n\t NBA & Patty Mills      & SAN & PG & 81 & 1659 & 260 &  612 & 123 & 320 & ⋯ &  59 &  76 &   6 & 102 & 0 &  690 &  0 & 0 & 0 &  3\\\\\n\t NBA & Paul Millsap     & ATL & PF & 81 & 2640 & 501 & 1067 &  74 & 232 & ⋯ & 148 & 191 & 140 & 237 & 2 & 1385 &  4 & 0 & 0 & 81\\\\\n\t NBA & Shabazz Muhammad & MIN & SF & 82 & 1678 & 317 &  681 &  44 & 152 & ⋯ &  24 &  70 &   7 &  94 & 0 &  863 &  0 & 0 & 0 &  0\\\\\n\t NBA & Raul Neto        & UTA & PG & 81 & 1501 & 180 &  418 &  64 & 162 & ⋯ &  62 & 109 &   2 & 122 & 1 &  476 &  0 & 0 & 0 & 53\\\\\n\t NBA & Mason Plumlee    & POR & PF & 82 & 2087 & 267 &  517 &   0 &   4 & ⋯ &  68 & 154 &  82 & 253 & 4 &  749 &  1 & 0 & 0 & 82\\\\\n\t NBA & Julius Randle    & LAL & PF & 81 & 2287 & 358 &  835 &  10 &  36 & ⋯ &  53 & 149 &  29 & 242 & 2 &  919 &  0 & 0 & 0 & 60\\\\\n\t NBA & Ramon Sessions   & WAS & PG & 82 & 1667 & 280 &  592 &  36 & 111 & ⋯ &  47 & 115 &   5 & 102 & 0 &  810 &  0 & 0 & 0 &  5\\\\\n\t NBA & Jared Sullinger  & BOS & PF & 81 & 1917 & 351 &  807 &  29 & 104 & ⋯ &  75 & 102 &  47 & 209 & 2 &  834 &  2 & 0 & 0 & 73\\\\\n\t NBA & Isaiah Thomas    & BOS & PG & 82 & 2647 & 591 & 1382 & 167 & 465 & ⋯ &  91 & 220 &   9 & 167 & 1 & 1823 &  9 & 0 & 0 & 79\\\\\n\t NBA & Tristan Thompson & CLE & C  & 82 & 2269 & 247 &  420 &   0 &   0 & ⋯ &  38 &  61 &  51 & 202 & 0 &  643 &  1 & 0 & 0 & 34\\\\\n\t NBA & Karl-antho Towns & MIN & C  & 82 & 2621 & 625 & 1152 &  30 &  88 & ⋯ &  58 & 183 & 138 & 245 & 1 & 1503 &  2 & 0 & 0 & 82\\\\\n\t NBA & P.j. Tucker      & PHO & SF & 82 & 2540 & 239 &  582 &  68 & 206 & ⋯ & 106 & 111 &  20 & 202 & 3 &  652 &  4 & 0 & 0 & 80\\\\\n\t NBA & Evan Turner      & BOS & SG & 81 & 2270 & 343 &  753 &  20 &  83 & ⋯ &  80 & 169 &  28 & 139 & 0 &  854 &  2 & 0 & 0 & 12\\\\\n\t NBA & Kemba Walker     & CHA & PG & 81 & 2885 & 568 & 1332 & 182 & 490 & ⋯ & 127 & 171 &  39 & 111 & 0 & 1689 &  5 & 0 & 0 & 81\\\\\n\t NBA & Andrew Wiggins   & MIN & SF & 81 & 2844 & 594 & 1294 &  57 & 190 & ⋯ &  78 & 182 &  46 & 165 & 1 & 1675 &  1 & 0 & 0 & 81\\\\\n\t NBA & Marvin Williams  & CHA & PF & 81 & 2339 & 338 &  747 & 152 & 379 & ⋯ &  58 &  62 &  77 & 133 & 1 &  948 &  0 & 0 & 0 & 81\\\\\n\\end{tabular}\n",
            "text/markdown": "\nA data.table: 43 × 25\n\n| League &lt;fct&gt; | Name &lt;chr&gt; | Team &lt;fct&gt; | Position &lt;fct&gt; | GamesPlayed &lt;int&gt; | TotalMinutesPlayed &lt;int&gt; | FieldGoalsMade &lt;int&gt; | FieldGoalsAttempted &lt;int&gt; | ThreesMade &lt;int&gt; | ThreesAttempted &lt;int&gt; | ⋯ ⋯ | Steals &lt;int&gt; | Turnovers &lt;int&gt; | Blocks &lt;int&gt; | PersonalFouls &lt;int&gt; | Disqualifications &lt;int&gt; | TotalPoints &lt;int&gt; | Technicals &lt;int&gt; | Ejections &lt;int&gt; | FlagrantFouls &lt;int&gt; | GamesStarted &lt;int&gt; |\n|---|---|---|---|---|---|---|---|---|---|---|---|---|---|---|---|---|---|---|---|---|\n| NBA | Al-farouq Aminu  | POR | SF | 82 | 2342 | 299 |  719 | 126 | 349 | ⋯ |  72 | 120 |  53 | 171 | 0 |  839 |  3 | 0 | 0 | 82 |\n| NBA | Trevor Ariza     | HOU | SF | 81 | 2860 | 357 |  858 | 185 | 497 | ⋯ | 161 | 113 |  26 | 177 | 0 | 1025 |  2 | 0 | 0 | 81 |\n| NBA | Will Barton      | DEN | SG | 82 | 2355 | 426 |  984 | 112 | 324 | ⋯ |  71 | 139 |  39 | 147 | 0 | 1180 |  2 | 0 | 0 |  1 |\n| NBA | Aron Baynes      | DET | PF | 81 | 1241 | 194 |  384 |   0 |   2 | ⋯ |  21 |  67 |  52 | 151 | 0 |  514 |  0 | 0 | 0 |  1 |\n| NBA | Bismack Biyombo  | TOR | PF | 82 | 1810 | 156 |  288 |   0 |   1 | ⋯ |  19 |  71 | 133 | 225 | 2 |  454 |  3 | 0 | 0 | 22 |\n| NBA | Corey Brewer     | HOU | SG | 82 | 1670 | 212 |  552 |  61 | 225 | ⋯ |  84 |  78 |  19 | 168 | 1 |  590 |  0 | 0 | 0 | 12 |\n| NBA | Allen Crabbe     | POR | SF | 81 | 2111 | 312 |  678 | 112 | 284 | ⋯ |  63 |  64 |  16 | 192 | 2 |  834 |  0 | 0 | 0 |  8 |\n| NBA | Ed Davis         | POR | PF | 81 | 1684 | 206 |  337 |   0 |   0 | ⋯ |  57 |  64 |  72 | 202 | 2 |  526 |  2 | 0 | 0 |  0 |\n| NBA | Gorgui Dieng     | MIN | C  | 82 | 2222 | 308 |  578 |   6 |  20 | ⋯ |  94 | 140 |  96 | 219 | 0 |  827 |  1 | 0 | 0 | 39 |\n| NBA | Andre Drummond   | DET | C  | 81 | 2664 | 552 | 1061 |   2 |   6 | ⋯ | 119 | 154 | 112 | 245 | 2 | 1314 |  7 | 0 | 0 | 81 |\n| NBA | Jared Dudley     | WAS | SG | 81 | 2098 | 233 |  487 | 100 | 239 | ⋯ |  75 |  80 |  18 | 190 | 1 |  638 |  1 | 0 | 0 | 41 |\n| NBA | Monta Ellis      | IND | PG | 81 | 2733 | 436 | 1021 |  87 | 281 | ⋯ | 149 | 203 |  38 | 174 | 0 | 1121 |  1 | 0 | 0 | 81 |\n| NBA | Randy Foye       | OKC | SG | 81 | 1640 | 168 |  481 |  75 | 250 | ⋯ |  39 |  86 |  29 | 131 | 0 |  472 |  0 | 0 | 0 |  8 |\n| NBA | Langsto Galloway | NYK | PG | 82 | 2032 | 231 |  588 |  77 | 224 | ⋯ |  77 |  61 |  22 | 177 | 2 |  625 |  0 | 0 | 0 |  7 |\n| NBA | Paul George      | IND | SF | 81 | 2828 | 605 | 1448 | 210 | 565 | ⋯ | 152 | 265 |  29 | 230 | 1 | 1874 |  6 | 0 | 0 | 81 |\n| NBA | Draymond Green   | GSW | SF | 81 | 2807 | 401 |  819 | 100 | 258 | ⋯ | 118 | 259 | 111 | 240 | 2 | 1131 | 11 | 0 | 0 | 81 |\n| NBA | James Harden     | HOU | SG | 82 | 3121 | 710 | 1617 | 236 | 656 | ⋯ | 138 | 374 |  51 | 229 | 1 | 2376 |  2 | 0 | 0 | 82 |\n| NBA | Roy Hibbert      | LAL | C  | 81 | 1881 | 182 |  411 |   0 |   2 | ⋯ |  32 |  76 | 110 | 252 | 3 |  481 |  2 | 0 | 0 | 81 |\n| NBA | Al Horford       | ATL | PF | 82 | 2638 | 529 | 1049 |  88 | 257 | ⋯ |  67 | 107 | 122 | 163 | 0 | 1249 |  1 | 0 | 0 | 82 |\n| NBA | Joe Ingles       | UTA | SF | 81 | 1241 | 124 |  291 |  81 | 210 | ⋯ |  55 |  65 |   4 |  98 | 0 |  342 |  1 | 0 | 0 |  2 |\n| NBA | Joe Johnson      | MIA | SF | 81 | 2703 | 377 |  859 | 120 | 313 | ⋯ |  61 | 160 |   4 | 146 | 0 |  992 |  1 | 0 | 0 | 81 |\n| NBA | Frank Kaminsky   | CHA | PF | 81 | 1713 | 215 |  525 |  68 | 202 | ⋯ |  37 |  58 |  43 | 126 | 0 |  606 |  0 | 0 | 0 |  3 |\n| NBA | Enes Kanter      | OKL | C  | 82 | 1721 | 415 |  720 |  10 |  21 | ⋯ |  26 | 115 |  33 | 166 | 1 | 1040 |  2 | 0 | 0 |  1 |\n| NBA | Zach Lavine      | MIN | PG | 82 | 2295 | 433 |  960 | 123 | 316 | ⋯ |  69 | 155 |  17 | 193 | 1 | 1150 |  0 | 0 | 0 | 33 |\n| NBA | Robin Lopez      | NYK | C  | 82 | 2213 | 357 |  662 |   0 |   1 | ⋯ |  16 | 133 | 129 | 182 | 2 |  842 |  3 | 0 | 0 | 82 |\n| NBA | T.j. Mcconnell   | PHI | PG | 81 | 1609 | 218 |  464 |  31 |  89 | ⋯ |  95 | 140 |  10 | 114 | 0 |  493 |  0 | 0 | 0 | 17 |\n| NBA | Doug Mcdermott   | CHI | SF | 81 | 1860 | 291 |  644 | 110 | 259 | ⋯ |  14 |  52 |   6 | 127 | 0 |  764 |  0 | 0 | 0 |  4 |\n| NBA | Patty Mills      | SAN | PG | 81 | 1659 | 260 |  612 | 123 | 320 | ⋯ |  59 |  76 |   6 | 102 | 0 |  690 |  0 | 0 | 0 |  3 |\n| NBA | Paul Millsap     | ATL | PF | 81 | 2640 | 501 | 1067 |  74 | 232 | ⋯ | 148 | 191 | 140 | 237 | 2 | 1385 |  4 | 0 | 0 | 81 |\n| NBA | Shabazz Muhammad | MIN | SF | 82 | 1678 | 317 |  681 |  44 | 152 | ⋯ |  24 |  70 |   7 |  94 | 0 |  863 |  0 | 0 | 0 |  0 |\n| NBA | Raul Neto        | UTA | PG | 81 | 1501 | 180 |  418 |  64 | 162 | ⋯ |  62 | 109 |   2 | 122 | 1 |  476 |  0 | 0 | 0 | 53 |\n| NBA | Mason Plumlee    | POR | PF | 82 | 2087 | 267 |  517 |   0 |   4 | ⋯ |  68 | 154 |  82 | 253 | 4 |  749 |  1 | 0 | 0 | 82 |\n| NBA | Julius Randle    | LAL | PF | 81 | 2287 | 358 |  835 |  10 |  36 | ⋯ |  53 | 149 |  29 | 242 | 2 |  919 |  0 | 0 | 0 | 60 |\n| NBA | Ramon Sessions   | WAS | PG | 82 | 1667 | 280 |  592 |  36 | 111 | ⋯ |  47 | 115 |   5 | 102 | 0 |  810 |  0 | 0 | 0 |  5 |\n| NBA | Jared Sullinger  | BOS | PF | 81 | 1917 | 351 |  807 |  29 | 104 | ⋯ |  75 | 102 |  47 | 209 | 2 |  834 |  2 | 0 | 0 | 73 |\n| NBA | Isaiah Thomas    | BOS | PG | 82 | 2647 | 591 | 1382 | 167 | 465 | ⋯ |  91 | 220 |   9 | 167 | 1 | 1823 |  9 | 0 | 0 | 79 |\n| NBA | Tristan Thompson | CLE | C  | 82 | 2269 | 247 |  420 |   0 |   0 | ⋯ |  38 |  61 |  51 | 202 | 0 |  643 |  1 | 0 | 0 | 34 |\n| NBA | Karl-antho Towns | MIN | C  | 82 | 2621 | 625 | 1152 |  30 |  88 | ⋯ |  58 | 183 | 138 | 245 | 1 | 1503 |  2 | 0 | 0 | 82 |\n| NBA | P.j. Tucker      | PHO | SF | 82 | 2540 | 239 |  582 |  68 | 206 | ⋯ | 106 | 111 |  20 | 202 | 3 |  652 |  4 | 0 | 0 | 80 |\n| NBA | Evan Turner      | BOS | SG | 81 | 2270 | 343 |  753 |  20 |  83 | ⋯ |  80 | 169 |  28 | 139 | 0 |  854 |  2 | 0 | 0 | 12 |\n| NBA | Kemba Walker     | CHA | PG | 81 | 2885 | 568 | 1332 | 182 | 490 | ⋯ | 127 | 171 |  39 | 111 | 0 | 1689 |  5 | 0 | 0 | 81 |\n| NBA | Andrew Wiggins   | MIN | SF | 81 | 2844 | 594 | 1294 |  57 | 190 | ⋯ |  78 | 182 |  46 | 165 | 1 | 1675 |  1 | 0 | 0 | 81 |\n| NBA | Marvin Williams  | CHA | PF | 81 | 2339 | 338 |  747 | 152 | 379 | ⋯ |  58 |  62 |  77 | 133 | 1 |  948 |  0 | 0 | 0 | 81 |\n\n",
            "text/html": [
              "<table>\n",
              "<caption>A data.table: 43 × 25</caption>\n",
              "<thead>\n",
              "\t<tr><th scope=col>League</th><th scope=col>Name</th><th scope=col>Team</th><th scope=col>Position</th><th scope=col>GamesPlayed</th><th scope=col>TotalMinutesPlayed</th><th scope=col>FieldGoalsMade</th><th scope=col>FieldGoalsAttempted</th><th scope=col>ThreesMade</th><th scope=col>ThreesAttempted</th><th scope=col>⋯</th><th scope=col>Steals</th><th scope=col>Turnovers</th><th scope=col>Blocks</th><th scope=col>PersonalFouls</th><th scope=col>Disqualifications</th><th scope=col>TotalPoints</th><th scope=col>Technicals</th><th scope=col>Ejections</th><th scope=col>FlagrantFouls</th><th scope=col>GamesStarted</th></tr>\n",
              "\t<tr><th scope=col>&lt;fct&gt;</th><th scope=col>&lt;chr&gt;</th><th scope=col>&lt;fct&gt;</th><th scope=col>&lt;fct&gt;</th><th scope=col>&lt;int&gt;</th><th scope=col>&lt;int&gt;</th><th scope=col>&lt;int&gt;</th><th scope=col>&lt;int&gt;</th><th scope=col>&lt;int&gt;</th><th scope=col>&lt;int&gt;</th><th scope=col>⋯</th><th scope=col>&lt;int&gt;</th><th scope=col>&lt;int&gt;</th><th scope=col>&lt;int&gt;</th><th scope=col>&lt;int&gt;</th><th scope=col>&lt;int&gt;</th><th scope=col>&lt;int&gt;</th><th scope=col>&lt;int&gt;</th><th scope=col>&lt;int&gt;</th><th scope=col>&lt;int&gt;</th><th scope=col>&lt;int&gt;</th></tr>\n",
              "</thead>\n",
              "<tbody>\n",
              "\t<tr><td>NBA</td><td>Al-farouq Aminu </td><td>POR</td><td>SF</td><td>82</td><td>2342</td><td>299</td><td> 719</td><td>126</td><td>349</td><td>⋯</td><td> 72</td><td>120</td><td> 53</td><td>171</td><td>0</td><td> 839</td><td> 3</td><td>0</td><td>0</td><td>82</td></tr>\n",
              "\t<tr><td>NBA</td><td>Trevor Ariza    </td><td>HOU</td><td>SF</td><td>81</td><td>2860</td><td>357</td><td> 858</td><td>185</td><td>497</td><td>⋯</td><td>161</td><td>113</td><td> 26</td><td>177</td><td>0</td><td>1025</td><td> 2</td><td>0</td><td>0</td><td>81</td></tr>\n",
              "\t<tr><td>NBA</td><td>Will Barton     </td><td>DEN</td><td>SG</td><td>82</td><td>2355</td><td>426</td><td> 984</td><td>112</td><td>324</td><td>⋯</td><td> 71</td><td>139</td><td> 39</td><td>147</td><td>0</td><td>1180</td><td> 2</td><td>0</td><td>0</td><td> 1</td></tr>\n",
              "\t<tr><td>NBA</td><td>Aron Baynes     </td><td>DET</td><td>PF</td><td>81</td><td>1241</td><td>194</td><td> 384</td><td>  0</td><td>  2</td><td>⋯</td><td> 21</td><td> 67</td><td> 52</td><td>151</td><td>0</td><td> 514</td><td> 0</td><td>0</td><td>0</td><td> 1</td></tr>\n",
              "\t<tr><td>NBA</td><td>Bismack Biyombo </td><td>TOR</td><td>PF</td><td>82</td><td>1810</td><td>156</td><td> 288</td><td>  0</td><td>  1</td><td>⋯</td><td> 19</td><td> 71</td><td>133</td><td>225</td><td>2</td><td> 454</td><td> 3</td><td>0</td><td>0</td><td>22</td></tr>\n",
              "\t<tr><td>NBA</td><td>Corey Brewer    </td><td>HOU</td><td>SG</td><td>82</td><td>1670</td><td>212</td><td> 552</td><td> 61</td><td>225</td><td>⋯</td><td> 84</td><td> 78</td><td> 19</td><td>168</td><td>1</td><td> 590</td><td> 0</td><td>0</td><td>0</td><td>12</td></tr>\n",
              "\t<tr><td>NBA</td><td>Allen Crabbe    </td><td>POR</td><td>SF</td><td>81</td><td>2111</td><td>312</td><td> 678</td><td>112</td><td>284</td><td>⋯</td><td> 63</td><td> 64</td><td> 16</td><td>192</td><td>2</td><td> 834</td><td> 0</td><td>0</td><td>0</td><td> 8</td></tr>\n",
              "\t<tr><td>NBA</td><td>Ed Davis        </td><td>POR</td><td>PF</td><td>81</td><td>1684</td><td>206</td><td> 337</td><td>  0</td><td>  0</td><td>⋯</td><td> 57</td><td> 64</td><td> 72</td><td>202</td><td>2</td><td> 526</td><td> 2</td><td>0</td><td>0</td><td> 0</td></tr>\n",
              "\t<tr><td>NBA</td><td>Gorgui Dieng    </td><td>MIN</td><td>C </td><td>82</td><td>2222</td><td>308</td><td> 578</td><td>  6</td><td> 20</td><td>⋯</td><td> 94</td><td>140</td><td> 96</td><td>219</td><td>0</td><td> 827</td><td> 1</td><td>0</td><td>0</td><td>39</td></tr>\n",
              "\t<tr><td>NBA</td><td>Andre Drummond  </td><td>DET</td><td>C </td><td>81</td><td>2664</td><td>552</td><td>1061</td><td>  2</td><td>  6</td><td>⋯</td><td>119</td><td>154</td><td>112</td><td>245</td><td>2</td><td>1314</td><td> 7</td><td>0</td><td>0</td><td>81</td></tr>\n",
              "\t<tr><td>NBA</td><td>Jared Dudley    </td><td>WAS</td><td>SG</td><td>81</td><td>2098</td><td>233</td><td> 487</td><td>100</td><td>239</td><td>⋯</td><td> 75</td><td> 80</td><td> 18</td><td>190</td><td>1</td><td> 638</td><td> 1</td><td>0</td><td>0</td><td>41</td></tr>\n",
              "\t<tr><td>NBA</td><td>Monta Ellis     </td><td>IND</td><td>PG</td><td>81</td><td>2733</td><td>436</td><td>1021</td><td> 87</td><td>281</td><td>⋯</td><td>149</td><td>203</td><td> 38</td><td>174</td><td>0</td><td>1121</td><td> 1</td><td>0</td><td>0</td><td>81</td></tr>\n",
              "\t<tr><td>NBA</td><td>Randy Foye      </td><td>OKC</td><td>SG</td><td>81</td><td>1640</td><td>168</td><td> 481</td><td> 75</td><td>250</td><td>⋯</td><td> 39</td><td> 86</td><td> 29</td><td>131</td><td>0</td><td> 472</td><td> 0</td><td>0</td><td>0</td><td> 8</td></tr>\n",
              "\t<tr><td>NBA</td><td>Langsto Galloway</td><td>NYK</td><td>PG</td><td>82</td><td>2032</td><td>231</td><td> 588</td><td> 77</td><td>224</td><td>⋯</td><td> 77</td><td> 61</td><td> 22</td><td>177</td><td>2</td><td> 625</td><td> 0</td><td>0</td><td>0</td><td> 7</td></tr>\n",
              "\t<tr><td>NBA</td><td>Paul George     </td><td>IND</td><td>SF</td><td>81</td><td>2828</td><td>605</td><td>1448</td><td>210</td><td>565</td><td>⋯</td><td>152</td><td>265</td><td> 29</td><td>230</td><td>1</td><td>1874</td><td> 6</td><td>0</td><td>0</td><td>81</td></tr>\n",
              "\t<tr><td>NBA</td><td>Draymond Green  </td><td>GSW</td><td>SF</td><td>81</td><td>2807</td><td>401</td><td> 819</td><td>100</td><td>258</td><td>⋯</td><td>118</td><td>259</td><td>111</td><td>240</td><td>2</td><td>1131</td><td>11</td><td>0</td><td>0</td><td>81</td></tr>\n",
              "\t<tr><td>NBA</td><td>James Harden    </td><td>HOU</td><td>SG</td><td>82</td><td>3121</td><td>710</td><td>1617</td><td>236</td><td>656</td><td>⋯</td><td>138</td><td>374</td><td> 51</td><td>229</td><td>1</td><td>2376</td><td> 2</td><td>0</td><td>0</td><td>82</td></tr>\n",
              "\t<tr><td>NBA</td><td>Roy Hibbert     </td><td>LAL</td><td>C </td><td>81</td><td>1881</td><td>182</td><td> 411</td><td>  0</td><td>  2</td><td>⋯</td><td> 32</td><td> 76</td><td>110</td><td>252</td><td>3</td><td> 481</td><td> 2</td><td>0</td><td>0</td><td>81</td></tr>\n",
              "\t<tr><td>NBA</td><td>Al Horford      </td><td>ATL</td><td>PF</td><td>82</td><td>2638</td><td>529</td><td>1049</td><td> 88</td><td>257</td><td>⋯</td><td> 67</td><td>107</td><td>122</td><td>163</td><td>0</td><td>1249</td><td> 1</td><td>0</td><td>0</td><td>82</td></tr>\n",
              "\t<tr><td>NBA</td><td>Joe Ingles      </td><td>UTA</td><td>SF</td><td>81</td><td>1241</td><td>124</td><td> 291</td><td> 81</td><td>210</td><td>⋯</td><td> 55</td><td> 65</td><td>  4</td><td> 98</td><td>0</td><td> 342</td><td> 1</td><td>0</td><td>0</td><td> 2</td></tr>\n",
              "\t<tr><td>NBA</td><td>Joe Johnson     </td><td>MIA</td><td>SF</td><td>81</td><td>2703</td><td>377</td><td> 859</td><td>120</td><td>313</td><td>⋯</td><td> 61</td><td>160</td><td>  4</td><td>146</td><td>0</td><td> 992</td><td> 1</td><td>0</td><td>0</td><td>81</td></tr>\n",
              "\t<tr><td>NBA</td><td>Frank Kaminsky  </td><td>CHA</td><td>PF</td><td>81</td><td>1713</td><td>215</td><td> 525</td><td> 68</td><td>202</td><td>⋯</td><td> 37</td><td> 58</td><td> 43</td><td>126</td><td>0</td><td> 606</td><td> 0</td><td>0</td><td>0</td><td> 3</td></tr>\n",
              "\t<tr><td>NBA</td><td>Enes Kanter     </td><td>OKL</td><td>C </td><td>82</td><td>1721</td><td>415</td><td> 720</td><td> 10</td><td> 21</td><td>⋯</td><td> 26</td><td>115</td><td> 33</td><td>166</td><td>1</td><td>1040</td><td> 2</td><td>0</td><td>0</td><td> 1</td></tr>\n",
              "\t<tr><td>NBA</td><td>Zach Lavine     </td><td>MIN</td><td>PG</td><td>82</td><td>2295</td><td>433</td><td> 960</td><td>123</td><td>316</td><td>⋯</td><td> 69</td><td>155</td><td> 17</td><td>193</td><td>1</td><td>1150</td><td> 0</td><td>0</td><td>0</td><td>33</td></tr>\n",
              "\t<tr><td>NBA</td><td>Robin Lopez     </td><td>NYK</td><td>C </td><td>82</td><td>2213</td><td>357</td><td> 662</td><td>  0</td><td>  1</td><td>⋯</td><td> 16</td><td>133</td><td>129</td><td>182</td><td>2</td><td> 842</td><td> 3</td><td>0</td><td>0</td><td>82</td></tr>\n",
              "\t<tr><td>NBA</td><td>T.j. Mcconnell  </td><td>PHI</td><td>PG</td><td>81</td><td>1609</td><td>218</td><td> 464</td><td> 31</td><td> 89</td><td>⋯</td><td> 95</td><td>140</td><td> 10</td><td>114</td><td>0</td><td> 493</td><td> 0</td><td>0</td><td>0</td><td>17</td></tr>\n",
              "\t<tr><td>NBA</td><td>Doug Mcdermott  </td><td>CHI</td><td>SF</td><td>81</td><td>1860</td><td>291</td><td> 644</td><td>110</td><td>259</td><td>⋯</td><td> 14</td><td> 52</td><td>  6</td><td>127</td><td>0</td><td> 764</td><td> 0</td><td>0</td><td>0</td><td> 4</td></tr>\n",
              "\t<tr><td>NBA</td><td>Patty Mills     </td><td>SAN</td><td>PG</td><td>81</td><td>1659</td><td>260</td><td> 612</td><td>123</td><td>320</td><td>⋯</td><td> 59</td><td> 76</td><td>  6</td><td>102</td><td>0</td><td> 690</td><td> 0</td><td>0</td><td>0</td><td> 3</td></tr>\n",
              "\t<tr><td>NBA</td><td>Paul Millsap    </td><td>ATL</td><td>PF</td><td>81</td><td>2640</td><td>501</td><td>1067</td><td> 74</td><td>232</td><td>⋯</td><td>148</td><td>191</td><td>140</td><td>237</td><td>2</td><td>1385</td><td> 4</td><td>0</td><td>0</td><td>81</td></tr>\n",
              "\t<tr><td>NBA</td><td>Shabazz Muhammad</td><td>MIN</td><td>SF</td><td>82</td><td>1678</td><td>317</td><td> 681</td><td> 44</td><td>152</td><td>⋯</td><td> 24</td><td> 70</td><td>  7</td><td> 94</td><td>0</td><td> 863</td><td> 0</td><td>0</td><td>0</td><td> 0</td></tr>\n",
              "\t<tr><td>NBA</td><td>Raul Neto       </td><td>UTA</td><td>PG</td><td>81</td><td>1501</td><td>180</td><td> 418</td><td> 64</td><td>162</td><td>⋯</td><td> 62</td><td>109</td><td>  2</td><td>122</td><td>1</td><td> 476</td><td> 0</td><td>0</td><td>0</td><td>53</td></tr>\n",
              "\t<tr><td>NBA</td><td>Mason Plumlee   </td><td>POR</td><td>PF</td><td>82</td><td>2087</td><td>267</td><td> 517</td><td>  0</td><td>  4</td><td>⋯</td><td> 68</td><td>154</td><td> 82</td><td>253</td><td>4</td><td> 749</td><td> 1</td><td>0</td><td>0</td><td>82</td></tr>\n",
              "\t<tr><td>NBA</td><td>Julius Randle   </td><td>LAL</td><td>PF</td><td>81</td><td>2287</td><td>358</td><td> 835</td><td> 10</td><td> 36</td><td>⋯</td><td> 53</td><td>149</td><td> 29</td><td>242</td><td>2</td><td> 919</td><td> 0</td><td>0</td><td>0</td><td>60</td></tr>\n",
              "\t<tr><td>NBA</td><td>Ramon Sessions  </td><td>WAS</td><td>PG</td><td>82</td><td>1667</td><td>280</td><td> 592</td><td> 36</td><td>111</td><td>⋯</td><td> 47</td><td>115</td><td>  5</td><td>102</td><td>0</td><td> 810</td><td> 0</td><td>0</td><td>0</td><td> 5</td></tr>\n",
              "\t<tr><td>NBA</td><td>Jared Sullinger </td><td>BOS</td><td>PF</td><td>81</td><td>1917</td><td>351</td><td> 807</td><td> 29</td><td>104</td><td>⋯</td><td> 75</td><td>102</td><td> 47</td><td>209</td><td>2</td><td> 834</td><td> 2</td><td>0</td><td>0</td><td>73</td></tr>\n",
              "\t<tr><td>NBA</td><td>Isaiah Thomas   </td><td>BOS</td><td>PG</td><td>82</td><td>2647</td><td>591</td><td>1382</td><td>167</td><td>465</td><td>⋯</td><td> 91</td><td>220</td><td>  9</td><td>167</td><td>1</td><td>1823</td><td> 9</td><td>0</td><td>0</td><td>79</td></tr>\n",
              "\t<tr><td>NBA</td><td>Tristan Thompson</td><td>CLE</td><td>C </td><td>82</td><td>2269</td><td>247</td><td> 420</td><td>  0</td><td>  0</td><td>⋯</td><td> 38</td><td> 61</td><td> 51</td><td>202</td><td>0</td><td> 643</td><td> 1</td><td>0</td><td>0</td><td>34</td></tr>\n",
              "\t<tr><td>NBA</td><td>Karl-antho Towns</td><td>MIN</td><td>C </td><td>82</td><td>2621</td><td>625</td><td>1152</td><td> 30</td><td> 88</td><td>⋯</td><td> 58</td><td>183</td><td>138</td><td>245</td><td>1</td><td>1503</td><td> 2</td><td>0</td><td>0</td><td>82</td></tr>\n",
              "\t<tr><td>NBA</td><td>P.j. Tucker     </td><td>PHO</td><td>SF</td><td>82</td><td>2540</td><td>239</td><td> 582</td><td> 68</td><td>206</td><td>⋯</td><td>106</td><td>111</td><td> 20</td><td>202</td><td>3</td><td> 652</td><td> 4</td><td>0</td><td>0</td><td>80</td></tr>\n",
              "\t<tr><td>NBA</td><td>Evan Turner     </td><td>BOS</td><td>SG</td><td>81</td><td>2270</td><td>343</td><td> 753</td><td> 20</td><td> 83</td><td>⋯</td><td> 80</td><td>169</td><td> 28</td><td>139</td><td>0</td><td> 854</td><td> 2</td><td>0</td><td>0</td><td>12</td></tr>\n",
              "\t<tr><td>NBA</td><td>Kemba Walker    </td><td>CHA</td><td>PG</td><td>81</td><td>2885</td><td>568</td><td>1332</td><td>182</td><td>490</td><td>⋯</td><td>127</td><td>171</td><td> 39</td><td>111</td><td>0</td><td>1689</td><td> 5</td><td>0</td><td>0</td><td>81</td></tr>\n",
              "\t<tr><td>NBA</td><td>Andrew Wiggins  </td><td>MIN</td><td>SF</td><td>81</td><td>2844</td><td>594</td><td>1294</td><td> 57</td><td>190</td><td>⋯</td><td> 78</td><td>182</td><td> 46</td><td>165</td><td>1</td><td>1675</td><td> 1</td><td>0</td><td>0</td><td>81</td></tr>\n",
              "\t<tr><td>NBA</td><td>Marvin Williams </td><td>CHA</td><td>PF</td><td>81</td><td>2339</td><td>338</td><td> 747</td><td>152</td><td>379</td><td>⋯</td><td> 58</td><td> 62</td><td> 77</td><td>133</td><td>1</td><td> 948</td><td> 0</td><td>0</td><td>0</td><td>81</td></tr>\n",
              "</tbody>\n",
              "</table>\n"
            ]
          },
          "metadata": {
            "tags": []
          }
        }
      ]
    },
    {
      "cell_type": "code",
      "metadata": {
        "id": "VieY_4XcqhaJ",
        "outputId": "89bca3e6-0b6e-477d-c8bc-3d7223f26038",
        "colab": {
          "base_uri": "https://localhost:8080/",
          "height": 414
        }
      },
      "source": [
        "NBA1516DT[grepl(\"J\",Name)&Position==\"SF\"]"
      ],
      "execution_count": 134,
      "outputs": [
        {
          "output_type": "display_data",
          "data": {
            "text/plain": [
              "   League Name             Team Position GamesPlayed TotalMinutesPlayed\n",
              "1  NBA    Jae Crowder      BOS  SF       73          2310              \n",
              "2  NBA    James Ennis      NOR  SF       22           329              \n",
              "3  NBA    Jeremy Evans     DAL  SF       30           251              \n",
              "4  NBA    Jerami Grant     PHI  SF       77          2068              \n",
              "5  NBA    Jeff Green       LAC  SF       80          2258              \n",
              "6  NBA    Josh Huestis     OKL  SF        5            55              \n",
              "7  NBA    Joe Ingles       UTA  SF       81          1241              \n",
              "8  NBA    Lebron James     CLE  SF       76          2710              \n",
              "9  NBA    Richar Jefferson CLE  SF       74          1326              \n",
              "10 NBA    Chris Johnson    UTA  SF       70           858              \n",
              "11 NBA    Joe Johnson      MIA  SF       81          2703              \n",
              "12 NBA    Stanley Johnson  DET  SF       73          1685              \n",
              "13 NBA    J.j. O'brien     UTA  SF        1             2              \n",
              "14 NBA    Jabari Parker    MIL  SF       76          2407              \n",
              "15 NBA    Josh Smith       HOU  SF       55           878              \n",
              "16 NBA    Justise Winslow  MIA  SF       78          2237              \n",
              "   FieldGoalsMade FieldGoalsAttempted ThreesMade ThreesAttempted ⋯ Steals\n",
              "1  359             812                122        363             ⋯ 126   \n",
              "2   54             113                 26         58             ⋯  16   \n",
              "3   26              48                  4         16             ⋯   6   \n",
              "4  251             599                 35        146             ⋯  54   \n",
              "5  354             824                 67        213             ⋯  58   \n",
              "6    5              12                  4          6             ⋯   1   \n",
              "7  124             291                 81        210             ⋯  55   \n",
              "8  737            1416                 87        282             ⋯ 104   \n",
              "9  143             312                 66        173             ⋯  33   \n",
              "10  72             194                 27         99             ⋯  32   \n",
              "11 377             859                120        313             ⋯  61   \n",
              "12 225             600                 63        205             ⋯  55   \n",
              "13   0               1                  0          0             ⋯   0   \n",
              "14 443             899                  9         35             ⋯  69   \n",
              "15 127             349                 41        143             ⋯  34   \n",
              "16 196             463                 32        116             ⋯  68   \n",
              "   Turnovers Blocks PersonalFouls Disqualifications TotalPoints Technicals\n",
              "1   83        35    198           4                 1036        3         \n",
              "2   19         5     28           1                  159        0         \n",
              "3    7         9     19           0                   71        0         \n",
              "4  110       127    215           1                  749        2         \n",
              "5   93        40    164           0                  939        0         \n",
              "6    3         2      3           0                   14        0         \n",
              "7   65         4     98           0                  342        1         \n",
              "8  249        49    143           0                 1920        3         \n",
              "9   43        14    129           0                  410        1         \n",
              "10  40        20    100           1                  205        0         \n",
              "11 160         4    146           0                  992        1         \n",
              "12 114        12    178           2                  593        2         \n",
              "13   0         0      0           0                    0        0         \n",
              "14 116        29    154           0                 1070        0         \n",
              "15  77        47    118           1                  332        1         \n",
              "16  95        26    184           0                  504        0         \n",
              "   Ejections FlagrantFouls GamesStarted\n",
              "1  0         0             73          \n",
              "2  0         0              5          \n",
              "3  0         0              2          \n",
              "4  0         0             52          \n",
              "5  0         0             41          \n",
              "6  0         0              0          \n",
              "7  0         0              2          \n",
              "8  0         0             76          \n",
              "9  0         0              5          \n",
              "10 0         0              2          \n",
              "11 0         0             81          \n",
              "12 0         0              6          \n",
              "13 0         0              0          \n",
              "14 0         0             72          \n",
              "15 0         0              7          \n",
              "16 0         0              8          "
            ],
            "text/latex": "A data.table: 16 × 25\n\\begin{tabular}{lllllllllllllllllllll}\n League & Name & Team & Position & GamesPlayed & TotalMinutesPlayed & FieldGoalsMade & FieldGoalsAttempted & ThreesMade & ThreesAttempted & ⋯ & Steals & Turnovers & Blocks & PersonalFouls & Disqualifications & TotalPoints & Technicals & Ejections & FlagrantFouls & GamesStarted\\\\\n <fct> & <chr> & <fct> & <fct> & <int> & <int> & <int> & <int> & <int> & <int> & ⋯ & <int> & <int> & <int> & <int> & <int> & <int> & <int> & <int> & <int> & <int>\\\\\n\\hline\n\t NBA & Jae Crowder      & BOS & SF & 73 & 2310 & 359 &  812 & 122 & 363 & ⋯ & 126 &  83 &  35 & 198 & 4 & 1036 & 3 & 0 & 0 & 73\\\\\n\t NBA & James Ennis      & NOR & SF & 22 &  329 &  54 &  113 &  26 &  58 & ⋯ &  16 &  19 &   5 &  28 & 1 &  159 & 0 & 0 & 0 &  5\\\\\n\t NBA & Jeremy Evans     & DAL & SF & 30 &  251 &  26 &   48 &   4 &  16 & ⋯ &   6 &   7 &   9 &  19 & 0 &   71 & 0 & 0 & 0 &  2\\\\\n\t NBA & Jerami Grant     & PHI & SF & 77 & 2068 & 251 &  599 &  35 & 146 & ⋯ &  54 & 110 & 127 & 215 & 1 &  749 & 2 & 0 & 0 & 52\\\\\n\t NBA & Jeff Green       & LAC & SF & 80 & 2258 & 354 &  824 &  67 & 213 & ⋯ &  58 &  93 &  40 & 164 & 0 &  939 & 0 & 0 & 0 & 41\\\\\n\t NBA & Josh Huestis     & OKL & SF &  5 &   55 &   5 &   12 &   4 &   6 & ⋯ &   1 &   3 &   2 &   3 & 0 &   14 & 0 & 0 & 0 &  0\\\\\n\t NBA & Joe Ingles       & UTA & SF & 81 & 1241 & 124 &  291 &  81 & 210 & ⋯ &  55 &  65 &   4 &  98 & 0 &  342 & 1 & 0 & 0 &  2\\\\\n\t NBA & Lebron James     & CLE & SF & 76 & 2710 & 737 & 1416 &  87 & 282 & ⋯ & 104 & 249 &  49 & 143 & 0 & 1920 & 3 & 0 & 0 & 76\\\\\n\t NBA & Richar Jefferson & CLE & SF & 74 & 1326 & 143 &  312 &  66 & 173 & ⋯ &  33 &  43 &  14 & 129 & 0 &  410 & 1 & 0 & 0 &  5\\\\\n\t NBA & Chris Johnson    & UTA & SF & 70 &  858 &  72 &  194 &  27 &  99 & ⋯ &  32 &  40 &  20 & 100 & 1 &  205 & 0 & 0 & 0 &  2\\\\\n\t NBA & Joe Johnson      & MIA & SF & 81 & 2703 & 377 &  859 & 120 & 313 & ⋯ &  61 & 160 &   4 & 146 & 0 &  992 & 1 & 0 & 0 & 81\\\\\n\t NBA & Stanley Johnson  & DET & SF & 73 & 1685 & 225 &  600 &  63 & 205 & ⋯ &  55 & 114 &  12 & 178 & 2 &  593 & 2 & 0 & 0 &  6\\\\\n\t NBA & J.j. O'brien     & UTA & SF &  1 &    2 &   0 &    1 &   0 &   0 & ⋯ &   0 &   0 &   0 &   0 & 0 &    0 & 0 & 0 & 0 &  0\\\\\n\t NBA & Jabari Parker    & MIL & SF & 76 & 2407 & 443 &  899 &   9 &  35 & ⋯ &  69 & 116 &  29 & 154 & 0 & 1070 & 0 & 0 & 0 & 72\\\\\n\t NBA & Josh Smith       & HOU & SF & 55 &  878 & 127 &  349 &  41 & 143 & ⋯ &  34 &  77 &  47 & 118 & 1 &  332 & 1 & 0 & 0 &  7\\\\\n\t NBA & Justise Winslow  & MIA & SF & 78 & 2237 & 196 &  463 &  32 & 116 & ⋯ &  68 &  95 &  26 & 184 & 0 &  504 & 0 & 0 & 0 &  8\\\\\n\\end{tabular}\n",
            "text/markdown": "\nA data.table: 16 × 25\n\n| League &lt;fct&gt; | Name &lt;chr&gt; | Team &lt;fct&gt; | Position &lt;fct&gt; | GamesPlayed &lt;int&gt; | TotalMinutesPlayed &lt;int&gt; | FieldGoalsMade &lt;int&gt; | FieldGoalsAttempted &lt;int&gt; | ThreesMade &lt;int&gt; | ThreesAttempted &lt;int&gt; | ⋯ ⋯ | Steals &lt;int&gt; | Turnovers &lt;int&gt; | Blocks &lt;int&gt; | PersonalFouls &lt;int&gt; | Disqualifications &lt;int&gt; | TotalPoints &lt;int&gt; | Technicals &lt;int&gt; | Ejections &lt;int&gt; | FlagrantFouls &lt;int&gt; | GamesStarted &lt;int&gt; |\n|---|---|---|---|---|---|---|---|---|---|---|---|---|---|---|---|---|---|---|---|---|\n| NBA | Jae Crowder      | BOS | SF | 73 | 2310 | 359 |  812 | 122 | 363 | ⋯ | 126 |  83 |  35 | 198 | 4 | 1036 | 3 | 0 | 0 | 73 |\n| NBA | James Ennis      | NOR | SF | 22 |  329 |  54 |  113 |  26 |  58 | ⋯ |  16 |  19 |   5 |  28 | 1 |  159 | 0 | 0 | 0 |  5 |\n| NBA | Jeremy Evans     | DAL | SF | 30 |  251 |  26 |   48 |   4 |  16 | ⋯ |   6 |   7 |   9 |  19 | 0 |   71 | 0 | 0 | 0 |  2 |\n| NBA | Jerami Grant     | PHI | SF | 77 | 2068 | 251 |  599 |  35 | 146 | ⋯ |  54 | 110 | 127 | 215 | 1 |  749 | 2 | 0 | 0 | 52 |\n| NBA | Jeff Green       | LAC | SF | 80 | 2258 | 354 |  824 |  67 | 213 | ⋯ |  58 |  93 |  40 | 164 | 0 |  939 | 0 | 0 | 0 | 41 |\n| NBA | Josh Huestis     | OKL | SF |  5 |   55 |   5 |   12 |   4 |   6 | ⋯ |   1 |   3 |   2 |   3 | 0 |   14 | 0 | 0 | 0 |  0 |\n| NBA | Joe Ingles       | UTA | SF | 81 | 1241 | 124 |  291 |  81 | 210 | ⋯ |  55 |  65 |   4 |  98 | 0 |  342 | 1 | 0 | 0 |  2 |\n| NBA | Lebron James     | CLE | SF | 76 | 2710 | 737 | 1416 |  87 | 282 | ⋯ | 104 | 249 |  49 | 143 | 0 | 1920 | 3 | 0 | 0 | 76 |\n| NBA | Richar Jefferson | CLE | SF | 74 | 1326 | 143 |  312 |  66 | 173 | ⋯ |  33 |  43 |  14 | 129 | 0 |  410 | 1 | 0 | 0 |  5 |\n| NBA | Chris Johnson    | UTA | SF | 70 |  858 |  72 |  194 |  27 |  99 | ⋯ |  32 |  40 |  20 | 100 | 1 |  205 | 0 | 0 | 0 |  2 |\n| NBA | Joe Johnson      | MIA | SF | 81 | 2703 | 377 |  859 | 120 | 313 | ⋯ |  61 | 160 |   4 | 146 | 0 |  992 | 1 | 0 | 0 | 81 |\n| NBA | Stanley Johnson  | DET | SF | 73 | 1685 | 225 |  600 |  63 | 205 | ⋯ |  55 | 114 |  12 | 178 | 2 |  593 | 2 | 0 | 0 |  6 |\n| NBA | J.j. O'brien     | UTA | SF |  1 |    2 |   0 |    1 |   0 |   0 | ⋯ |   0 |   0 |   0 |   0 | 0 |    0 | 0 | 0 | 0 |  0 |\n| NBA | Jabari Parker    | MIL | SF | 76 | 2407 | 443 |  899 |   9 |  35 | ⋯ |  69 | 116 |  29 | 154 | 0 | 1070 | 0 | 0 | 0 | 72 |\n| NBA | Josh Smith       | HOU | SF | 55 |  878 | 127 |  349 |  41 | 143 | ⋯ |  34 |  77 |  47 | 118 | 1 |  332 | 1 | 0 | 0 |  7 |\n| NBA | Justise Winslow  | MIA | SF | 78 | 2237 | 196 |  463 |  32 | 116 | ⋯ |  68 |  95 |  26 | 184 | 0 |  504 | 0 | 0 | 0 |  8 |\n\n",
            "text/html": [
              "<table>\n",
              "<caption>A data.table: 16 × 25</caption>\n",
              "<thead>\n",
              "\t<tr><th scope=col>League</th><th scope=col>Name</th><th scope=col>Team</th><th scope=col>Position</th><th scope=col>GamesPlayed</th><th scope=col>TotalMinutesPlayed</th><th scope=col>FieldGoalsMade</th><th scope=col>FieldGoalsAttempted</th><th scope=col>ThreesMade</th><th scope=col>ThreesAttempted</th><th scope=col>⋯</th><th scope=col>Steals</th><th scope=col>Turnovers</th><th scope=col>Blocks</th><th scope=col>PersonalFouls</th><th scope=col>Disqualifications</th><th scope=col>TotalPoints</th><th scope=col>Technicals</th><th scope=col>Ejections</th><th scope=col>FlagrantFouls</th><th scope=col>GamesStarted</th></tr>\n",
              "\t<tr><th scope=col>&lt;fct&gt;</th><th scope=col>&lt;chr&gt;</th><th scope=col>&lt;fct&gt;</th><th scope=col>&lt;fct&gt;</th><th scope=col>&lt;int&gt;</th><th scope=col>&lt;int&gt;</th><th scope=col>&lt;int&gt;</th><th scope=col>&lt;int&gt;</th><th scope=col>&lt;int&gt;</th><th scope=col>&lt;int&gt;</th><th scope=col>⋯</th><th scope=col>&lt;int&gt;</th><th scope=col>&lt;int&gt;</th><th scope=col>&lt;int&gt;</th><th scope=col>&lt;int&gt;</th><th scope=col>&lt;int&gt;</th><th scope=col>&lt;int&gt;</th><th scope=col>&lt;int&gt;</th><th scope=col>&lt;int&gt;</th><th scope=col>&lt;int&gt;</th><th scope=col>&lt;int&gt;</th></tr>\n",
              "</thead>\n",
              "<tbody>\n",
              "\t<tr><td>NBA</td><td>Jae Crowder     </td><td>BOS</td><td>SF</td><td>73</td><td>2310</td><td>359</td><td> 812</td><td>122</td><td>363</td><td>⋯</td><td>126</td><td> 83</td><td> 35</td><td>198</td><td>4</td><td>1036</td><td>3</td><td>0</td><td>0</td><td>73</td></tr>\n",
              "\t<tr><td>NBA</td><td>James Ennis     </td><td>NOR</td><td>SF</td><td>22</td><td> 329</td><td> 54</td><td> 113</td><td> 26</td><td> 58</td><td>⋯</td><td> 16</td><td> 19</td><td>  5</td><td> 28</td><td>1</td><td> 159</td><td>0</td><td>0</td><td>0</td><td> 5</td></tr>\n",
              "\t<tr><td>NBA</td><td>Jeremy Evans    </td><td>DAL</td><td>SF</td><td>30</td><td> 251</td><td> 26</td><td>  48</td><td>  4</td><td> 16</td><td>⋯</td><td>  6</td><td>  7</td><td>  9</td><td> 19</td><td>0</td><td>  71</td><td>0</td><td>0</td><td>0</td><td> 2</td></tr>\n",
              "\t<tr><td>NBA</td><td>Jerami Grant    </td><td>PHI</td><td>SF</td><td>77</td><td>2068</td><td>251</td><td> 599</td><td> 35</td><td>146</td><td>⋯</td><td> 54</td><td>110</td><td>127</td><td>215</td><td>1</td><td> 749</td><td>2</td><td>0</td><td>0</td><td>52</td></tr>\n",
              "\t<tr><td>NBA</td><td>Jeff Green      </td><td>LAC</td><td>SF</td><td>80</td><td>2258</td><td>354</td><td> 824</td><td> 67</td><td>213</td><td>⋯</td><td> 58</td><td> 93</td><td> 40</td><td>164</td><td>0</td><td> 939</td><td>0</td><td>0</td><td>0</td><td>41</td></tr>\n",
              "\t<tr><td>NBA</td><td>Josh Huestis    </td><td>OKL</td><td>SF</td><td> 5</td><td>  55</td><td>  5</td><td>  12</td><td>  4</td><td>  6</td><td>⋯</td><td>  1</td><td>  3</td><td>  2</td><td>  3</td><td>0</td><td>  14</td><td>0</td><td>0</td><td>0</td><td> 0</td></tr>\n",
              "\t<tr><td>NBA</td><td>Joe Ingles      </td><td>UTA</td><td>SF</td><td>81</td><td>1241</td><td>124</td><td> 291</td><td> 81</td><td>210</td><td>⋯</td><td> 55</td><td> 65</td><td>  4</td><td> 98</td><td>0</td><td> 342</td><td>1</td><td>0</td><td>0</td><td> 2</td></tr>\n",
              "\t<tr><td>NBA</td><td>Lebron James    </td><td>CLE</td><td>SF</td><td>76</td><td>2710</td><td>737</td><td>1416</td><td> 87</td><td>282</td><td>⋯</td><td>104</td><td>249</td><td> 49</td><td>143</td><td>0</td><td>1920</td><td>3</td><td>0</td><td>0</td><td>76</td></tr>\n",
              "\t<tr><td>NBA</td><td>Richar Jefferson</td><td>CLE</td><td>SF</td><td>74</td><td>1326</td><td>143</td><td> 312</td><td> 66</td><td>173</td><td>⋯</td><td> 33</td><td> 43</td><td> 14</td><td>129</td><td>0</td><td> 410</td><td>1</td><td>0</td><td>0</td><td> 5</td></tr>\n",
              "\t<tr><td>NBA</td><td>Chris Johnson   </td><td>UTA</td><td>SF</td><td>70</td><td> 858</td><td> 72</td><td> 194</td><td> 27</td><td> 99</td><td>⋯</td><td> 32</td><td> 40</td><td> 20</td><td>100</td><td>1</td><td> 205</td><td>0</td><td>0</td><td>0</td><td> 2</td></tr>\n",
              "\t<tr><td>NBA</td><td>Joe Johnson     </td><td>MIA</td><td>SF</td><td>81</td><td>2703</td><td>377</td><td> 859</td><td>120</td><td>313</td><td>⋯</td><td> 61</td><td>160</td><td>  4</td><td>146</td><td>0</td><td> 992</td><td>1</td><td>0</td><td>0</td><td>81</td></tr>\n",
              "\t<tr><td>NBA</td><td>Stanley Johnson </td><td>DET</td><td>SF</td><td>73</td><td>1685</td><td>225</td><td> 600</td><td> 63</td><td>205</td><td>⋯</td><td> 55</td><td>114</td><td> 12</td><td>178</td><td>2</td><td> 593</td><td>2</td><td>0</td><td>0</td><td> 6</td></tr>\n",
              "\t<tr><td>NBA</td><td>J.j. O'brien    </td><td>UTA</td><td>SF</td><td> 1</td><td>   2</td><td>  0</td><td>   1</td><td>  0</td><td>  0</td><td>⋯</td><td>  0</td><td>  0</td><td>  0</td><td>  0</td><td>0</td><td>   0</td><td>0</td><td>0</td><td>0</td><td> 0</td></tr>\n",
              "\t<tr><td>NBA</td><td>Jabari Parker   </td><td>MIL</td><td>SF</td><td>76</td><td>2407</td><td>443</td><td> 899</td><td>  9</td><td> 35</td><td>⋯</td><td> 69</td><td>116</td><td> 29</td><td>154</td><td>0</td><td>1070</td><td>0</td><td>0</td><td>0</td><td>72</td></tr>\n",
              "\t<tr><td>NBA</td><td>Josh Smith      </td><td>HOU</td><td>SF</td><td>55</td><td> 878</td><td>127</td><td> 349</td><td> 41</td><td>143</td><td>⋯</td><td> 34</td><td> 77</td><td> 47</td><td>118</td><td>1</td><td> 332</td><td>1</td><td>0</td><td>0</td><td> 7</td></tr>\n",
              "\t<tr><td>NBA</td><td>Justise Winslow </td><td>MIA</td><td>SF</td><td>78</td><td>2237</td><td>196</td><td> 463</td><td> 32</td><td>116</td><td>⋯</td><td> 68</td><td> 95</td><td> 26</td><td>184</td><td>0</td><td> 504</td><td>0</td><td>0</td><td>0</td><td> 8</td></tr>\n",
              "</tbody>\n",
              "</table>\n"
            ]
          },
          "metadata": {
            "tags": []
          }
        }
      ]
    }
  ]
}