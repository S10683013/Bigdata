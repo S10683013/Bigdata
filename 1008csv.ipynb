{
  "nbformat": 4,
  "nbformat_minor": 0,
  "metadata": {
    "colab": {
      "name": "IR.ipynb ",
      "provenance": [],
      "collapsed_sections": [],
      "include_colab_link": true
    },
    "kernelspec": {
      "name": "ir",
      "display_name": "R"
    }
  },
  "cells": [
    {
      "cell_type": "markdown",
      "metadata": {
        "id": "view-in-github",
        "colab_type": "text"
      },
      "source": [
        "<a href=\"https://colab.research.google.com/github/S10683013/Bigdata/blob/master/1008csv.ipynb\" target=\"_parent\"><img src=\"https://colab.research.google.com/assets/colab-badge.svg\" alt=\"Open In Colab\"/></a>"
      ]
    },
    {
      "cell_type": "code",
      "metadata": {
        "id": "7xKDYHL5WAut"
      },
      "source": [
        "#列出檔案\n",
        "system(\"ls\",TRUE)\n",
        "#載入reader套件\n",
        "library(readr)\n",
        "#讀取.csv檔案\n",
        "dataset<-read.csv(\"20191203動物資料.csv\")\n",
        "#印出dataset\n",
        "dataset"
      ],
      "execution_count": null,
      "outputs": []
    },
    {
      "cell_type": "code",
      "metadata": {
        "id": "1_8MymSEZ5he"
      },
      "source": [
        "#預覽前20項\n",
        "head(dataset$A_Name_Ch, n=20)\n",
        "#預覽後20項\n",
        "tail(dataset$A_Name_Ch, n=20)"
      ],
      "execution_count": null,
      "outputs": []
    },
    {
      "cell_type": "code",
      "metadata": {
        "id": "OA7l1nXZa3xi"
      },
      "source": [
        "#搜尋 象\n",
        "dataset[grepl(\"象\",dataset$A_Name_Ch),]\n",
        "#搜尋 虎\n",
        "dataset[grepl(\"虎\",dataset$A_Name_Ch),]"
      ],
      "execution_count": null,
      "outputs": []
    },
    {
      "cell_type": "code",
      "metadata": {
        "id": "fWgYKpjsdfIE"
      },
      "source": [
        "#安裝json套件\n",
        "install.packages(\"jsonlite\")\n",
        "#載入json套件\n",
        "library(\"jsonlite\")\n",
        "#讀取opendata資料，存到Petdata\n",
        "Petdata<-jsonlite::fromJSON(\"https://data.taipei/opendata/datalist/apiAccess?scope=resourceAquire&rid=f4a75ba9-7721-4363-884d-c3820b0b917c\")\n",
        "str(Petdata)\n",
        "#擷取results內容\n",
        "head(Petdata$result$results)"
      ],
      "execution_count": null,
      "outputs": []
    },
    {
      "cell_type": "code",
      "metadata": {
        "id": "yndiZP2vfuuT",
        "outputId": "c9049c66-59c9-4bbe-bd7f-703f596f2fe9",
        "colab": {
          "base_uri": "https://localhost:8080/",
          "height": 221
        }
      },
      "source": [
        "#查看Reason\n",
        "table(Petdata$result$results$Reason)\n",
        "#查看性別\n",
        "table(Petdata$result$results$Sex)\n",
        "#Type\n",
        "table(Petdata$result$results$Type)\n",
        "#年齡\n",
        "table(Petdata$result$results$Age)"
      ],
      "execution_count": 27,
      "outputs": [
        {
          "output_type": "display_data",
          "data": {
            "text/plain": [
              "\n",
              "                 動物救援     動物管制 民眾不擬續養     民眾拾獲 \n",
              "          28          109          155           50           23 "
            ]
          },
          "metadata": {
            "tags": []
          }
        },
        {
          "output_type": "display_data",
          "data": {
            "text/plain": [
              "\n",
              " 雄  雌 \n",
              "190 175 "
            ]
          },
          "metadata": {
            "tags": []
          }
        },
        {
          "output_type": "display_data",
          "data": {
            "text/plain": [
              "\n",
              "其他   犬   貓 \n",
              "  62  187  116 "
            ]
          },
          "metadata": {
            "tags": []
          }
        },
        {
          "output_type": "display_data",
          "data": {
            "text/plain": [
              "\n",
              "年輕 幼齡 成年 老年 \n",
              "  77   17  240   31 "
            ]
          },
          "metadata": {
            "tags": []
          }
        }
      ]
    }
  ]
}